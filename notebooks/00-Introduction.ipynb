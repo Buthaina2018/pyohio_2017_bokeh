{
 "cells": [
  {
   "cell_type": "markdown",
   "metadata": {},
   "source": [
    "# Bokeh: Interactive Data Visualization in Python\n",
    "Steven C. Howell <br />\n",
    "[@StevenCHowell](https://twitter.com/StevenCHowell) <br />\n",
    "[https://github.com/StevenCHowell/pyohio_2017_bokeh](https://github.com/StevenCHowell/pyohio_2017_bokeh)"
   ]
  },
  {
   "cell_type": "markdown",
   "metadata": {},
   "source": [
    "\"A picture is worth a thousand words.\" Data visualization is key to understanding the information contained in data. Interactive visualizations provide a valuable means for students, data journalist, engineers, and scientist to explore their data. Bokeh provides a Python API for creating elegant plots, dashboards, and data applications in the style of D3.js, without having to write any JavaScript.\n",
    "\n",
    "This tutorial will introduce students to the basics of using Bokeh, demonstrate different aspects of the library, and teach students how to get the answers to questions that arise as they apply what they have learned to their own data. We will cover the following four examples:\n",
    "\n",
    "- using Bokeh to create simple interactive plots, both [from a script (01-intro_plot.py)](01-intro_plot.py) and [from a Jupyter notebook (01-intro_plot.ipynb)](01-intro_plot.ipynb)\n",
    "- using Bokeh server to link interactive visualizations to a running python instance, [02-server.ipynb](02-server.ipynb) or [02-server.py](02-server.py)\n",
    "- steaming data to a Bokeh plot, [03-streaming.ipynb](03-streaming.ipynb)\n",
    "- partnering Bokeh with Datashader to interactively view large datasets, [04-datashader.ipynb](04-datashader.ipynb) \n",
    "\n",
    "For each of these topics, your will have an exercise to apply what you have learned and further explore the Bokeh API.\n",
    "\n"
   ]
  },
  {
   "cell_type": "code",
   "execution_count": null,
   "metadata": {
    "collapsed": true
   },
   "outputs": [],
   "source": []
  }
 ],
 "metadata": {
  "kernelspec": {
   "display_name": "Python 3",
   "language": "python",
   "name": "python3"
  },
  "language_info": {
   "codemirror_mode": {
    "name": "ipython",
    "version": 3
   },
   "file_extension": ".py",
   "mimetype": "text/x-python",
   "name": "python",
   "nbconvert_exporter": "python",
   "pygments_lexer": "ipython3",
   "version": "3.6.1"
  }
 },
 "nbformat": 4,
 "nbformat_minor": 2
}
