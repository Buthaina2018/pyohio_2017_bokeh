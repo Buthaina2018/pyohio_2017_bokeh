{
 "cells": [
  {
   "cell_type": "markdown",
   "metadata": {},
   "source": [
    "# Imports\n",
    "\n",
    "When using the [`bokeh.plotting`](http://bokeh.pydata.org/en/latest/docs/user_guide/plotting.html) interface, here are a few of the most common ones we will use:\n",
    "* Use the [`figure`](http://bokeh.pydata.org/en/latest/docs/reference/plotting.html#bokeh.plotting.figure) function to  create new plot objects to work with. \n",
    "* Call the functions [`output_file`](http://bokeh.pydata.org/en/latest/docs/reference/resources_embedding.html#bokeh.io.output_file), [`output_notebook`](http://bokeh.pydata.org/en/latest/docs/reference/resources_embedding.html#bokeh.io.output_notebook), and [`output_server`](http://bokeh.pydata.org/en/latest/docs/reference/resources_embedding.html#bokeh.io.output_server) (possibly in combination) to tell Bokeh how to display or save output. \n",
    "* Execute [`show`](http://bokeh.pydata.org/en/latest/docs/reference/resources_embedding.html#bokeh.io.show) and  [`save`](http://bokeh.pydata.org/en/latest/docs/reference/resources_embedding.html#bokeh.io.save) to display or save plots and layouts."
   ]
  },
  {
   "cell_type": "code",
   "execution_count": 1,
   "metadata": {
    "collapsed": true
   },
   "outputs": [],
   "source": [
    "import bokeh.plotting"
   ]
  },
  {
   "cell_type": "markdown",
   "metadata": {},
   "source": [
    "Load the bokeh JavaScript layer from the web."
   ]
  },
  {
   "cell_type": "code",
   "execution_count": 2,
   "metadata": {},
   "outputs": [
    {
     "data": {
      "text/html": [
       "\n",
       "    <div class=\"bk-root\">\n",
       "        <a href=\"http://bokeh.pydata.org\" target=\"_blank\" class=\"bk-logo bk-logo-small bk-logo-notebook\"></a>\n",
       "        <span id=\"3596dbf7-7fa3-4512-8f25-f7524a37215b\">Loading BokehJS ...</span>\n",
       "    </div>"
      ]
     },
     "metadata": {},
     "output_type": "display_data"
    },
    {
     "data": {
      "application/javascript": [
       "\n",
       "(function(global) {\n",
       "  function now() {\n",
       "    return new Date();\n",
       "  }\n",
       "\n",
       "  var force = true;\n",
       "\n",
       "  if (typeof (window._bokeh_onload_callbacks) === \"undefined\" || force === true) {\n",
       "    window._bokeh_onload_callbacks = [];\n",
       "    window._bokeh_is_loading = undefined;\n",
       "  }\n",
       "\n",
       "\n",
       "  \n",
       "  if (typeof (window._bokeh_timeout) === \"undefined\" || force === true) {\n",
       "    window._bokeh_timeout = Date.now() + 5000;\n",
       "    window._bokeh_failed_load = false;\n",
       "  }\n",
       "\n",
       "  var NB_LOAD_WARNING = {'data': {'text/html':\n",
       "     \"<div style='background-color: #fdd'>\\n\"+\n",
       "     \"<p>\\n\"+\n",
       "     \"BokehJS does not appear to have successfully loaded. If loading BokehJS from CDN, this \\n\"+\n",
       "     \"may be due to a slow or bad network connection. Possible fixes:\\n\"+\n",
       "     \"</p>\\n\"+\n",
       "     \"<ul>\\n\"+\n",
       "     \"<li>re-rerun `output_notebook()` to attempt to load from CDN again, or</li>\\n\"+\n",
       "     \"<li>use INLINE resources instead, as so:</li>\\n\"+\n",
       "     \"</ul>\\n\"+\n",
       "     \"<code>\\n\"+\n",
       "     \"from bokeh.resources import INLINE\\n\"+\n",
       "     \"output_notebook(resources=INLINE)\\n\"+\n",
       "     \"</code>\\n\"+\n",
       "     \"</div>\"}};\n",
       "\n",
       "  function display_loaded() {\n",
       "    if (window.Bokeh !== undefined) {\n",
       "      var el = document.getElementById(\"3596dbf7-7fa3-4512-8f25-f7524a37215b\");\n",
       "      el.textContent = \"BokehJS \" + Bokeh.version + \" successfully loaded.\";\n",
       "    } else if (Date.now() < window._bokeh_timeout) {\n",
       "      setTimeout(display_loaded, 100)\n",
       "    }\n",
       "  }\n",
       "\n",
       "  function run_callbacks() {\n",
       "    try {\n",
       "      window._bokeh_onload_callbacks.forEach(function(callback) { callback() });\n",
       "    }\n",
       "    finally {\n",
       "      delete window._bokeh_onload_callbacks\n",
       "    }\n",
       "    console.info(\"Bokeh: all callbacks have finished\");\n",
       "  }\n",
       "\n",
       "  function load_libs(js_urls, callback) {\n",
       "    window._bokeh_onload_callbacks.push(callback);\n",
       "    if (window._bokeh_is_loading > 0) {\n",
       "      console.log(\"Bokeh: BokehJS is being loaded, scheduling callback at\", now());\n",
       "      return null;\n",
       "    }\n",
       "    if (js_urls == null || js_urls.length === 0) {\n",
       "      run_callbacks();\n",
       "      return null;\n",
       "    }\n",
       "    console.log(\"Bokeh: BokehJS not loaded, scheduling load and callback at\", now());\n",
       "    window._bokeh_is_loading = js_urls.length;\n",
       "    for (var i = 0; i < js_urls.length; i++) {\n",
       "      var url = js_urls[i];\n",
       "      var s = document.createElement('script');\n",
       "      s.src = url;\n",
       "      s.async = false;\n",
       "      s.onreadystatechange = s.onload = function() {\n",
       "        window._bokeh_is_loading--;\n",
       "        if (window._bokeh_is_loading === 0) {\n",
       "          console.log(\"Bokeh: all BokehJS libraries loaded\");\n",
       "          run_callbacks()\n",
       "        }\n",
       "      };\n",
       "      s.onerror = function() {\n",
       "        console.warn(\"failed to load library \" + url);\n",
       "      };\n",
       "      console.log(\"Bokeh: injecting script tag for BokehJS library: \", url);\n",
       "      document.getElementsByTagName(\"head\")[0].appendChild(s);\n",
       "    }\n",
       "  };var element = document.getElementById(\"3596dbf7-7fa3-4512-8f25-f7524a37215b\");\n",
       "  if (element == null) {\n",
       "    console.log(\"Bokeh: ERROR: autoload.js configured with elementid '3596dbf7-7fa3-4512-8f25-f7524a37215b' but no matching script tag was found. \")\n",
       "    return false;\n",
       "  }\n",
       "\n",
       "  var js_urls = [\"https://cdn.pydata.org/bokeh/release/bokeh-0.12.6.min.js\", \"https://cdn.pydata.org/bokeh/release/bokeh-widgets-0.12.6.min.js\"];\n",
       "\n",
       "  var inline_js = [\n",
       "    function(Bokeh) {\n",
       "      Bokeh.set_log_level(\"info\");\n",
       "    },\n",
       "    \n",
       "    function(Bokeh) {\n",
       "      \n",
       "    },\n",
       "    \n",
       "    function(Bokeh) {\n",
       "      \n",
       "      document.getElementById(\"3596dbf7-7fa3-4512-8f25-f7524a37215b\").textContent = \"BokehJS is loading...\";\n",
       "    },\n",
       "    function(Bokeh) {\n",
       "      console.log(\"Bokeh: injecting CSS: https://cdn.pydata.org/bokeh/release/bokeh-0.12.6.min.css\");\n",
       "      Bokeh.embed.inject_css(\"https://cdn.pydata.org/bokeh/release/bokeh-0.12.6.min.css\");\n",
       "      console.log(\"Bokeh: injecting CSS: https://cdn.pydata.org/bokeh/release/bokeh-widgets-0.12.6.min.css\");\n",
       "      Bokeh.embed.inject_css(\"https://cdn.pydata.org/bokeh/release/bokeh-widgets-0.12.6.min.css\");\n",
       "    }\n",
       "  ];\n",
       "\n",
       "  function run_inline_js() {\n",
       "    \n",
       "    if ((window.Bokeh !== undefined) || (force === true)) {\n",
       "      for (var i = 0; i < inline_js.length; i++) {\n",
       "        inline_js[i](window.Bokeh);\n",
       "      }if (force === true) {\n",
       "        display_loaded();\n",
       "      }} else if (Date.now() < window._bokeh_timeout) {\n",
       "      setTimeout(run_inline_js, 100);\n",
       "    } else if (!window._bokeh_failed_load) {\n",
       "      console.log(\"Bokeh: BokehJS failed to load within specified timeout.\");\n",
       "      window._bokeh_failed_load = true;\n",
       "    } else if (force !== true) {\n",
       "      var cell = $(document.getElementById(\"3596dbf7-7fa3-4512-8f25-f7524a37215b\")).parents('.cell').data().cell;\n",
       "      cell.output_area.append_execute_result(NB_LOAD_WARNING)\n",
       "    }\n",
       "\n",
       "  }\n",
       "\n",
       "  if (window._bokeh_is_loading === 0) {\n",
       "    console.log(\"Bokeh: BokehJS loaded, going straight to plotting\");\n",
       "    run_inline_js();\n",
       "  } else {\n",
       "    load_libs(js_urls, function() {\n",
       "      console.log(\"Bokeh: BokehJS plotting callback run at\", now());\n",
       "      run_inline_js();\n",
       "    });\n",
       "  }\n",
       "}(this));"
      ]
     },
     "metadata": {},
     "output_type": "display_data"
    }
   ],
   "source": [
    "bokeh.plotting.output_notebook()"
   ]
  },
  {
   "cell_type": "markdown",
   "metadata": {},
   "source": [
    "If not connected to the internet, you can get the JavaScript library inline by running\n",
    "\n",
    "```\n",
    "import bokeh.resources\n",
    "bokeh.plotting.output_notebook(resources=bokeh.resources.INLINE)\n",
    "```"
   ]
  },
  {
   "cell_type": "code",
   "execution_count": 3,
   "metadata": {
    "collapsed": true
   },
   "outputs": [],
   "source": [
    "# # uncomment and run this cell if not connected to the internet\n",
    "# import bokeh.resources\n",
    "# bokeh.plotting.output_notebook(resources=bokeh.resources.INLINE)"
   ]
  },
  {
   "cell_type": "markdown",
   "metadata": {},
   "source": [
    "Bokeh incorporates many [palettes](http://bokeh.pydata.org/en/latest/docs/reference/palettes.html#bokeh-palettes) for presenting your data.  The following import method makes it easy to switch out which palette you are using."
   ]
  },
  {
   "cell_type": "code",
   "execution_count": 4,
   "metadata": {
    "collapsed": true
   },
   "outputs": [],
   "source": [
    "from bokeh.palettes import Category10_10 as palette\n",
    "# # switching palettes is as easy as replacing which you import\n",
    "# from bokeh.palettes import Colorblind_7 as palette  "
   ]
  },
  {
   "cell_type": "markdown",
   "metadata": {},
   "source": [
    "Palettes are simply a list of color hex strings."
   ]
  },
  {
   "cell_type": "code",
   "execution_count": 5,
   "metadata": {},
   "outputs": [
    {
     "name": "stdout",
     "output_type": "stream",
     "text": [
      "['#1f77b4', '#ff7f0e', '#2ca02c', '#d62728', '#9467bd', '#8c564b', '#e377c2', '#7f7f7f', '#bcbd22', '#17becf']\n"
     ]
    }
   ],
   "source": [
    "print(palette)"
   ]
  },
  {
   "cell_type": "markdown",
   "metadata": {},
   "source": [
    "You can also use many color names, e.g., `'blue'`, `'red'`, `'yellow'`, `'firebrick'`, etc.  Feel free to explore."
   ]
  },
  {
   "cell_type": "code",
   "execution_count": 6,
   "metadata": {
    "collapsed": true
   },
   "outputs": [],
   "source": [
    "import numpy as np"
   ]
  },
  {
   "cell_type": "markdown",
   "metadata": {},
   "source": [
    "We will use SciPy to create some sample data."
   ]
  },
  {
   "cell_type": "code",
   "execution_count": 7,
   "metadata": {
    "collapsed": true
   },
   "outputs": [],
   "source": [
    "import scipy.stats"
   ]
  },
  {
   "cell_type": "markdown",
   "metadata": {},
   "source": [
    "# Sample plot"
   ]
  },
  {
   "cell_type": "markdown",
   "metadata": {},
   "source": [
    "Bokeh expects data as either a **single value**, or a **series of values**, e.g., list, set, NumPy array, Pandas DataFrame column.  We will often use NumPy arrays.\n",
    "\n",
    "Lets create some sample data.  Throughout this tutorial, we will use the [normal (or Gaussian) distribution](https://en.wikipedia.org/wiki/Normal_distribution) for out sample data.  The Gaussian distribution is defined as"
   ]
  },
  {
   "cell_type": "markdown",
   "metadata": {},
   "source": [
    "$$f(x | \\mu, \\sigma^2) = \\frac{1}{\\sqrt{2\\pi\\sigma^2}} \\,\\exp\\left({-\\frac{(x-\\mu)^2}{2\\sigma^2}}\\right)$$"
   ]
  },
  {
   "cell_type": "markdown",
   "metadata": {},
   "source": [
    "where $\\mu$ is the mean value, and $\\sigma$ is the standard deviation.\n",
    "\n",
    "SciPy provides [`scipy.stats.norm`](https://docs.scipy.org/doc/scipy/reference/generated/scipy.stats.norm.html) which include many functions related to the Gaussian distribution.  Here is a simple wrapper of the probability density function (pdf)."
   ]
  },
  {
   "cell_type": "code",
   "execution_count": 11,
   "metadata": {
    "collapsed": true
   },
   "outputs": [],
   "source": [
    "def gaussian(x_array, mu, sigma):\n",
    "    pdf = scipy.stats.norm.pdf(x_array, loc=mu, scale=sigma)\n",
    "    return pdf"
   ]
  },
  {
   "cell_type": "markdown",
   "metadata": {},
   "source": [
    "We will define 3 Gaussian distributions:\n",
    "1. $\\mu=10$, $\\sigma=4$\n",
    "2. $\\mu=5$, $\\sigma=0.5$\n",
    "3. $\\mu=12$, $\\sigma=2$"
   ]
  },
  {
   "cell_type": "code",
   "execution_count": 29,
   "metadata": {
    "collapsed": true
   },
   "outputs": [],
   "source": [
    "x = np.linspace(0, 20)\n",
    "y1 = gaussian(x, 10, 4)\n",
    "y2 = gaussian(x, 5, 0.5)\n",
    "y3 = gaussian(x, 12, 2)"
   ]
  },
  {
   "cell_type": "code",
   "execution_count": 14,
   "metadata": {},
   "outputs": [
    {
     "data": {
      "text/html": [
       "\n",
       "\n",
       "    <div class=\"bk-root\">\n",
       "        <div class=\"bk-plotdiv\" id=\"f2746bb6-72a1-4056-b711-946d42b51210\"></div>\n",
       "    </div>\n",
       "<script type=\"text/javascript\">\n",
       "  \n",
       "  (function(global) {\n",
       "    function now() {\n",
       "      return new Date();\n",
       "    }\n",
       "  \n",
       "    var force = false;\n",
       "  \n",
       "    if (typeof (window._bokeh_onload_callbacks) === \"undefined\" || force === true) {\n",
       "      window._bokeh_onload_callbacks = [];\n",
       "      window._bokeh_is_loading = undefined;\n",
       "    }\n",
       "  \n",
       "  \n",
       "    \n",
       "    if (typeof (window._bokeh_timeout) === \"undefined\" || force === true) {\n",
       "      window._bokeh_timeout = Date.now() + 0;\n",
       "      window._bokeh_failed_load = false;\n",
       "    }\n",
       "  \n",
       "    var NB_LOAD_WARNING = {'data': {'text/html':\n",
       "       \"<div style='background-color: #fdd'>\\n\"+\n",
       "       \"<p>\\n\"+\n",
       "       \"BokehJS does not appear to have successfully loaded. If loading BokehJS from CDN, this \\n\"+\n",
       "       \"may be due to a slow or bad network connection. Possible fixes:\\n\"+\n",
       "       \"</p>\\n\"+\n",
       "       \"<ul>\\n\"+\n",
       "       \"<li>re-rerun `output_notebook()` to attempt to load from CDN again, or</li>\\n\"+\n",
       "       \"<li>use INLINE resources instead, as so:</li>\\n\"+\n",
       "       \"</ul>\\n\"+\n",
       "       \"<code>\\n\"+\n",
       "       \"from bokeh.resources import INLINE\\n\"+\n",
       "       \"output_notebook(resources=INLINE)\\n\"+\n",
       "       \"</code>\\n\"+\n",
       "       \"</div>\"}};\n",
       "  \n",
       "    function display_loaded() {\n",
       "      if (window.Bokeh !== undefined) {\n",
       "        var el = document.getElementById(\"f2746bb6-72a1-4056-b711-946d42b51210\");\n",
       "        el.textContent = \"BokehJS \" + Bokeh.version + \" successfully loaded.\";\n",
       "      } else if (Date.now() < window._bokeh_timeout) {\n",
       "        setTimeout(display_loaded, 100)\n",
       "      }\n",
       "    }\n",
       "  \n",
       "    function run_callbacks() {\n",
       "      try {\n",
       "        window._bokeh_onload_callbacks.forEach(function(callback) { callback() });\n",
       "      }\n",
       "      finally {\n",
       "        delete window._bokeh_onload_callbacks\n",
       "      }\n",
       "      console.info(\"Bokeh: all callbacks have finished\");\n",
       "    }\n",
       "  \n",
       "    function load_libs(js_urls, callback) {\n",
       "      window._bokeh_onload_callbacks.push(callback);\n",
       "      if (window._bokeh_is_loading > 0) {\n",
       "        console.log(\"Bokeh: BokehJS is being loaded, scheduling callback at\", now());\n",
       "        return null;\n",
       "      }\n",
       "      if (js_urls == null || js_urls.length === 0) {\n",
       "        run_callbacks();\n",
       "        return null;\n",
       "      }\n",
       "      console.log(\"Bokeh: BokehJS not loaded, scheduling load and callback at\", now());\n",
       "      window._bokeh_is_loading = js_urls.length;\n",
       "      for (var i = 0; i < js_urls.length; i++) {\n",
       "        var url = js_urls[i];\n",
       "        var s = document.createElement('script');\n",
       "        s.src = url;\n",
       "        s.async = false;\n",
       "        s.onreadystatechange = s.onload = function() {\n",
       "          window._bokeh_is_loading--;\n",
       "          if (window._bokeh_is_loading === 0) {\n",
       "            console.log(\"Bokeh: all BokehJS libraries loaded\");\n",
       "            run_callbacks()\n",
       "          }\n",
       "        };\n",
       "        s.onerror = function() {\n",
       "          console.warn(\"failed to load library \" + url);\n",
       "        };\n",
       "        console.log(\"Bokeh: injecting script tag for BokehJS library: \", url);\n",
       "        document.getElementsByTagName(\"head\")[0].appendChild(s);\n",
       "      }\n",
       "    };var element = document.getElementById(\"f2746bb6-72a1-4056-b711-946d42b51210\");\n",
       "    if (element == null) {\n",
       "      console.log(\"Bokeh: ERROR: autoload.js configured with elementid 'f2746bb6-72a1-4056-b711-946d42b51210' but no matching script tag was found. \")\n",
       "      return false;\n",
       "    }\n",
       "  \n",
       "    var js_urls = [];\n",
       "  \n",
       "    var inline_js = [\n",
       "      function(Bokeh) {\n",
       "        (function() {\n",
       "          var fn = function() {\n",
       "            var docs_json = {\"28654120-256a-48d6-a941-ddb19dd1ab3d\":{\"roots\":{\"references\":[{\"attributes\":{\"below\":[{\"id\":\"34daaa06-6e6f-4840-b73b-b8a211aebca9\",\"type\":\"LinearAxis\"}],\"left\":[{\"id\":\"ce0f56b1-d0b4-4836-97a4-6ce0490d8ef0\",\"type\":\"LinearAxis\"}],\"renderers\":[{\"id\":\"34daaa06-6e6f-4840-b73b-b8a211aebca9\",\"type\":\"LinearAxis\"},{\"id\":\"b246d083-68d7-4ce4-9292-2c640810e197\",\"type\":\"Grid\"},{\"id\":\"ce0f56b1-d0b4-4836-97a4-6ce0490d8ef0\",\"type\":\"LinearAxis\"},{\"id\":\"13737352-37bd-431a-9caf-6a74ff56701f\",\"type\":\"Grid\"},{\"id\":\"40586556-c194-468a-8c4b-5c3637da54f3\",\"type\":\"BoxAnnotation\"},{\"id\":\"a072c195-3e06-4681-b7d1-94e2b702a86e\",\"type\":\"GlyphRenderer\"}],\"title\":{\"id\":\"54f0cd3b-ad93-4d04-88a3-5fa74323be81\",\"type\":\"Title\"},\"tool_events\":{\"id\":\"3ff71e5a-bc4e-46af-983a-f797402b183b\",\"type\":\"ToolEvents\"},\"toolbar\":{\"id\":\"e16b1866-0a0b-47f2-bd5d-023f401a49ad\",\"type\":\"Toolbar\"},\"x_range\":{\"id\":\"a231cbee-e8fa-495f-af21-d1d7aa7523d3\",\"type\":\"DataRange1d\"},\"x_scale\":{\"id\":\"98de158f-12fe-460d-af8a-eb80dca0dfe4\",\"type\":\"LinearScale\"},\"y_range\":{\"id\":\"24c5e3cf-5f15-4afa-9e9d-26202c81f2af\",\"type\":\"DataRange1d\"},\"y_scale\":{\"id\":\"acdb1c41-aa66-4ff3-8748-604a6dba500e\",\"type\":\"LinearScale\"}},\"id\":\"6b09b431-803b-4608-800f-1ca0eac79e0c\",\"subtype\":\"Figure\",\"type\":\"Plot\"},{\"attributes\":{\"dimension\":1,\"plot\":{\"id\":\"6b09b431-803b-4608-800f-1ca0eac79e0c\",\"subtype\":\"Figure\",\"type\":\"Plot\"},\"ticker\":{\"id\":\"c4e0696b-bcc5-4f0e-9edb-3a2a4cac8950\",\"type\":\"BasicTicker\"}},\"id\":\"13737352-37bd-431a-9caf-6a74ff56701f\",\"type\":\"Grid\"},{\"attributes\":{\"plot\":{\"id\":\"6b09b431-803b-4608-800f-1ca0eac79e0c\",\"subtype\":\"Figure\",\"type\":\"Plot\"}},\"id\":\"f3526243-cd33-4b4f-8310-cd1d78bcbfa9\",\"type\":\"PanTool\"},{\"attributes\":{},\"id\":\"c4e0696b-bcc5-4f0e-9edb-3a2a4cac8950\",\"type\":\"BasicTicker\"},{\"attributes\":{\"plot\":{\"id\":\"6b09b431-803b-4608-800f-1ca0eac79e0c\",\"subtype\":\"Figure\",\"type\":\"Plot\"},\"ticker\":{\"id\":\"1e604072-c5e1-43b9-8b7e-74a4d23fe685\",\"type\":\"BasicTicker\"}},\"id\":\"b246d083-68d7-4ce4-9292-2c640810e197\",\"type\":\"Grid\"},{\"attributes\":{\"fill_alpha\":{\"value\":0.1},\"fill_color\":{\"value\":\"#1f77b4\"},\"line_alpha\":{\"value\":0.1},\"line_color\":{\"value\":\"#1f77b4\"},\"x\":{\"field\":\"x\"},\"y\":{\"field\":\"y\"}},\"id\":\"0fc87c79-8002-4ef4-8597-0648821b0870\",\"type\":\"Diamond\"},{\"attributes\":{},\"id\":\"b18e675c-30d2-4160-89e2-1f4be51b710b\",\"type\":\"BasicTickFormatter\"},{\"attributes\":{},\"id\":\"1e604072-c5e1-43b9-8b7e-74a4d23fe685\",\"type\":\"BasicTicker\"},{\"attributes\":{\"callback\":null,\"column_names\":[\"x\",\"y\"],\"data\":{\"x\":{\"__ndarray__\":\"AAAAAAAAAACIxvrQWB/aP4jG+tBYH+o/5hS8nIKX8z+IxvrQWB/6PxW8nIKXUwBA5hS8nIKXA0C3bdu2bdsGQIjG+tBYHwpAWR8a60NjDUAVvJyCl1MQQH5orA+N9RFA5hS8nIKXE0BOwcspeDkVQLdt27Zt2xZAIBrrQ2N9GECIxvrQWB8aQPByCl5OwRtAWR8a60NjHUDCyyl4OQUfQBW8nIKXUyBASZIkSZIkIUB+aKwPjfUhQLI+NNaHxiJA5hS8nIKXI0Aa60NjfWgkQE7Byyl4OSVAg5dT8HIKJkC3bdu2bdsmQOtDY31orCdAIBrrQ2N9KEBU8HIKXk4pQIjG+tBYHypAvJyCl1PwKkDwcgpeTsErQCVJkiRJkixAWR8a60NjLUCN9aGxPjQuQMLLKXg5BS9A9qGxPjTWL0AVvJyCl1MwQC+n4OUUvDBASZIkSZIkMUBjfWisD40xQH5orA+N9TFAmFPwcgpeMkCyPjTWh8YyQMwpeDkFLzNA5hS8nIKXM0AAAAAAAAA0QA==\",\"dtype\":\"float64\",\"shape\":[50]},\"y\":{\"__ndarray__\":\"V1J/VfDycT+i4whnZwt3P7AolnK9R30/7S7rrbBogj/w/1HagOiGP6u0Sfg7Now/3UTAHBYxkT9IeiUYT7yUP76E4Cs5wJg/oe6zBNg8nT8qEmK9DBehP4XIvMWjxaM/rkeGAlKjpj/oET/NnaapP6rmCwF+w6w/x0jxqIrrrz8xHP+JKoexP761nybzDLM/yPRh9q99tD/ru6YZ3M+1P9ZSXddD+rY/b1zlRW70tz/jqD09A7e4P/nVQukmPLk/aKkQxcR/uT9oqRDFxH+5P/nVQukmPLk/4qg9PQO3uD9vXOVFbvS3P9ZSXddD+rY/6rumGdzPtT/H9GH2r320P761nybzDLM/MRz/iSqHsT/HSPGoiuuvP6jmCwF+w6w/6BE/zZ2mqT+uR4YCUqOmP4LIvMWjxaM/JxJivQwXoT+h7rME2DydP76E4Cs5wJg/SHolGE+8lD/fRMAcFjGRP6W0Sfg7Now/6v9R2oDohj/oLuutsGiCP7AolnK9R30/ouMIZ2cLdz9XUn9V8PJxPw==\",\"dtype\":\"float64\",\"shape\":[50]}}},\"id\":\"dde2abf9-773c-4a4f-9344-999617507b73\",\"type\":\"ColumnDataSource\"},{\"attributes\":{\"fill_color\":{\"value\":\"#1f77b4\"},\"line_color\":{\"value\":\"#1f77b4\"},\"x\":{\"field\":\"x\"},\"y\":{\"field\":\"y\"}},\"id\":\"8ee9a653-24af-4f5b-af0e-78e0133752f6\",\"type\":\"Diamond\"},{\"attributes\":{\"plot\":{\"id\":\"6b09b431-803b-4608-800f-1ca0eac79e0c\",\"subtype\":\"Figure\",\"type\":\"Plot\"}},\"id\":\"6b4e89fa-a1bc-49cb-b07f-b5d72c6c4389\",\"type\":\"WheelZoomTool\"},{\"attributes\":{},\"id\":\"3ff71e5a-bc4e-46af-983a-f797402b183b\",\"type\":\"ToolEvents\"},{\"attributes\":{\"bottom_units\":\"screen\",\"fill_alpha\":{\"value\":0.5},\"fill_color\":{\"value\":\"lightgrey\"},\"left_units\":\"screen\",\"level\":\"overlay\",\"line_alpha\":{\"value\":1.0},\"line_color\":{\"value\":\"black\"},\"line_dash\":[4,4],\"line_width\":{\"value\":2},\"plot\":null,\"render_mode\":\"css\",\"right_units\":\"screen\",\"top_units\":\"screen\"},\"id\":\"40586556-c194-468a-8c4b-5c3637da54f3\",\"type\":\"BoxAnnotation\"},{\"attributes\":{\"plot\":{\"id\":\"6b09b431-803b-4608-800f-1ca0eac79e0c\",\"subtype\":\"Figure\",\"type\":\"Plot\"}},\"id\":\"c00809f3-2914-4787-a3f4-b586993b0078\",\"type\":\"HelpTool\"},{\"attributes\":{\"data_source\":{\"id\":\"dde2abf9-773c-4a4f-9344-999617507b73\",\"type\":\"ColumnDataSource\"},\"glyph\":{\"id\":\"8ee9a653-24af-4f5b-af0e-78e0133752f6\",\"type\":\"Diamond\"},\"hover_glyph\":null,\"muted_glyph\":null,\"nonselection_glyph\":{\"id\":\"0fc87c79-8002-4ef4-8597-0648821b0870\",\"type\":\"Diamond\"},\"selection_glyph\":null},\"id\":\"a072c195-3e06-4681-b7d1-94e2b702a86e\",\"type\":\"GlyphRenderer\"},{\"attributes\":{},\"id\":\"98de158f-12fe-460d-af8a-eb80dca0dfe4\",\"type\":\"LinearScale\"},{\"attributes\":{\"plot\":{\"id\":\"6b09b431-803b-4608-800f-1ca0eac79e0c\",\"subtype\":\"Figure\",\"type\":\"Plot\"}},\"id\":\"82401200-e697-4e46-98c1-fb65afc43978\",\"type\":\"SaveTool\"},{\"attributes\":{},\"id\":\"acdb1c41-aa66-4ff3-8748-604a6dba500e\",\"type\":\"LinearScale\"},{\"attributes\":{\"overlay\":{\"id\":\"40586556-c194-468a-8c4b-5c3637da54f3\",\"type\":\"BoxAnnotation\"},\"plot\":{\"id\":\"6b09b431-803b-4608-800f-1ca0eac79e0c\",\"subtype\":\"Figure\",\"type\":\"Plot\"}},\"id\":\"9fa227f5-7d80-4be6-b134-c2b4dbc8dc48\",\"type\":\"BoxZoomTool\"},{\"attributes\":{\"formatter\":{\"id\":\"7deec978-b459-48d9-8f25-63f579f85418\",\"type\":\"BasicTickFormatter\"},\"plot\":{\"id\":\"6b09b431-803b-4608-800f-1ca0eac79e0c\",\"subtype\":\"Figure\",\"type\":\"Plot\"},\"ticker\":{\"id\":\"1e604072-c5e1-43b9-8b7e-74a4d23fe685\",\"type\":\"BasicTicker\"}},\"id\":\"34daaa06-6e6f-4840-b73b-b8a211aebca9\",\"type\":\"LinearAxis\"},{\"attributes\":{\"callback\":null},\"id\":\"a231cbee-e8fa-495f-af21-d1d7aa7523d3\",\"type\":\"DataRange1d\"},{\"attributes\":{\"plot\":null,\"text\":\"\"},\"id\":\"54f0cd3b-ad93-4d04-88a3-5fa74323be81\",\"type\":\"Title\"},{\"attributes\":{\"callback\":null},\"id\":\"24c5e3cf-5f15-4afa-9e9d-26202c81f2af\",\"type\":\"DataRange1d\"},{\"attributes\":{\"plot\":{\"id\":\"6b09b431-803b-4608-800f-1ca0eac79e0c\",\"subtype\":\"Figure\",\"type\":\"Plot\"}},\"id\":\"2e1ddca1-21d1-4d73-bfe5-3a7888fbd70d\",\"type\":\"ResetTool\"},{\"attributes\":{\"formatter\":{\"id\":\"b18e675c-30d2-4160-89e2-1f4be51b710b\",\"type\":\"BasicTickFormatter\"},\"plot\":{\"id\":\"6b09b431-803b-4608-800f-1ca0eac79e0c\",\"subtype\":\"Figure\",\"type\":\"Plot\"},\"ticker\":{\"id\":\"c4e0696b-bcc5-4f0e-9edb-3a2a4cac8950\",\"type\":\"BasicTicker\"}},\"id\":\"ce0f56b1-d0b4-4836-97a4-6ce0490d8ef0\",\"type\":\"LinearAxis\"},{\"attributes\":{},\"id\":\"7deec978-b459-48d9-8f25-63f579f85418\",\"type\":\"BasicTickFormatter\"},{\"attributes\":{\"active_drag\":\"auto\",\"active_inspect\":\"auto\",\"active_scroll\":\"auto\",\"active_tap\":\"auto\",\"tools\":[{\"id\":\"f3526243-cd33-4b4f-8310-cd1d78bcbfa9\",\"type\":\"PanTool\"},{\"id\":\"6b4e89fa-a1bc-49cb-b07f-b5d72c6c4389\",\"type\":\"WheelZoomTool\"},{\"id\":\"9fa227f5-7d80-4be6-b134-c2b4dbc8dc48\",\"type\":\"BoxZoomTool\"},{\"id\":\"82401200-e697-4e46-98c1-fb65afc43978\",\"type\":\"SaveTool\"},{\"id\":\"2e1ddca1-21d1-4d73-bfe5-3a7888fbd70d\",\"type\":\"ResetTool\"},{\"id\":\"c00809f3-2914-4787-a3f4-b586993b0078\",\"type\":\"HelpTool\"}]},\"id\":\"e16b1866-0a0b-47f2-bd5d-023f401a49ad\",\"type\":\"Toolbar\"}],\"root_ids\":[\"6b09b431-803b-4608-800f-1ca0eac79e0c\"]},\"title\":\"Bokeh Application\",\"version\":\"0.12.6\"}};\n",
       "            var render_items = [{\"docid\":\"28654120-256a-48d6-a941-ddb19dd1ab3d\",\"elementid\":\"f2746bb6-72a1-4056-b711-946d42b51210\",\"modelid\":\"6b09b431-803b-4608-800f-1ca0eac79e0c\"}];\n",
       "            \n",
       "            Bokeh.embed.embed_items(docs_json, render_items);\n",
       "          };\n",
       "          if (document.readyState != \"loading\") fn();\n",
       "          else document.addEventListener(\"DOMContentLoaded\", fn);\n",
       "        })();\n",
       "      },\n",
       "      function(Bokeh) {\n",
       "      }\n",
       "    ];\n",
       "  \n",
       "    function run_inline_js() {\n",
       "      \n",
       "      if ((window.Bokeh !== undefined) || (force === true)) {\n",
       "        for (var i = 0; i < inline_js.length; i++) {\n",
       "          inline_js[i](window.Bokeh);\n",
       "        }if (force === true) {\n",
       "          display_loaded();\n",
       "        }} else if (Date.now() < window._bokeh_timeout) {\n",
       "        setTimeout(run_inline_js, 100);\n",
       "      } else if (!window._bokeh_failed_load) {\n",
       "        console.log(\"Bokeh: BokehJS failed to load within specified timeout.\");\n",
       "        window._bokeh_failed_load = true;\n",
       "      } else if (force !== true) {\n",
       "        var cell = $(document.getElementById(\"f2746bb6-72a1-4056-b711-946d42b51210\")).parents('.cell').data().cell;\n",
       "        cell.output_area.append_execute_result(NB_LOAD_WARNING)\n",
       "      }\n",
       "  \n",
       "    }\n",
       "  \n",
       "    if (window._bokeh_is_loading === 0) {\n",
       "      console.log(\"Bokeh: BokehJS loaded, going straight to plotting\");\n",
       "      run_inline_js();\n",
       "    } else {\n",
       "      load_libs(js_urls, function() {\n",
       "        console.log(\"Bokeh: BokehJS plotting callback run at\", now());\n",
       "        run_inline_js();\n",
       "      });\n",
       "    }\n",
       "  }(this));\n",
       "</script>"
      ]
     },
     "metadata": {},
     "output_type": "display_data"
    }
   ],
   "source": [
    "p = bokeh.plotting.figure()\n",
    "p.diamond(x, y1)\n",
    "bokeh.plotting.show(p)"
   ]
  },
  {
   "attachments": {},
   "cell_type": "markdown",
   "metadata": {},
   "source": [
    "After just 3 lines of code, we have a reasonable plot of our data with several interactions availble by default.  ### Explore\n",
    "Go through each of the tools on the right side figuring out what each does.\n",
    "\n",
    "# Quiz\n",
    "1\\. What do each of the following do?\n",
    "\n",
    "￼￼  <img src=\"assets/Bokeh.png\" width=\"20\"/> \n",
    "  <img src=\"assets/Pan.png\" width=\"20\"/> \n",
    "  <img src=\"assets/BoxZoom.png\" width=\"20\"/> \n",
    "  <img src=\"assets/WheelZoom.png\" width=\"20\"/> \n",
    "  <img src=\"assets/Save.png\" width=\"20\"/> \n",
    "  <img src=\"assets/Reset.png\" width=\"20\"/> \n",
    "  <img src=\"assets/Help.png\" width=\"20\"/> \n",
    "\n",
    "2\\. Where do you go to learn about configuring plot tools?\n",
    "\n",
    "3\\. Name one additional tool that is not one of the default tools?"
   ]
  },
  {
   "cell_type": "markdown",
   "metadata": {},
   "source": [
    "In addition to `tools`, `figure()` and `diamond()` have several other `kwargs` you can use to adjust the plotting results.  Lets see some of these in use."
   ]
  },
  {
   "cell_type": "code",
   "execution_count": 26,
   "metadata": {},
   "outputs": [
    {
     "data": {
      "text/html": [
       "\n",
       "\n",
       "    <div class=\"bk-root\">\n",
       "        <div class=\"bk-plotdiv\" id=\"cab69a08-6fb8-4140-bb19-8b3caebffb12\"></div>\n",
       "    </div>\n",
       "<script type=\"text/javascript\">\n",
       "  \n",
       "  (function(global) {\n",
       "    function now() {\n",
       "      return new Date();\n",
       "    }\n",
       "  \n",
       "    var force = false;\n",
       "  \n",
       "    if (typeof (window._bokeh_onload_callbacks) === \"undefined\" || force === true) {\n",
       "      window._bokeh_onload_callbacks = [];\n",
       "      window._bokeh_is_loading = undefined;\n",
       "    }\n",
       "  \n",
       "  \n",
       "    \n",
       "    if (typeof (window._bokeh_timeout) === \"undefined\" || force === true) {\n",
       "      window._bokeh_timeout = Date.now() + 0;\n",
       "      window._bokeh_failed_load = false;\n",
       "    }\n",
       "  \n",
       "    var NB_LOAD_WARNING = {'data': {'text/html':\n",
       "       \"<div style='background-color: #fdd'>\\n\"+\n",
       "       \"<p>\\n\"+\n",
       "       \"BokehJS does not appear to have successfully loaded. If loading BokehJS from CDN, this \\n\"+\n",
       "       \"may be due to a slow or bad network connection. Possible fixes:\\n\"+\n",
       "       \"</p>\\n\"+\n",
       "       \"<ul>\\n\"+\n",
       "       \"<li>re-rerun `output_notebook()` to attempt to load from CDN again, or</li>\\n\"+\n",
       "       \"<li>use INLINE resources instead, as so:</li>\\n\"+\n",
       "       \"</ul>\\n\"+\n",
       "       \"<code>\\n\"+\n",
       "       \"from bokeh.resources import INLINE\\n\"+\n",
       "       \"output_notebook(resources=INLINE)\\n\"+\n",
       "       \"</code>\\n\"+\n",
       "       \"</div>\"}};\n",
       "  \n",
       "    function display_loaded() {\n",
       "      if (window.Bokeh !== undefined) {\n",
       "        var el = document.getElementById(\"cab69a08-6fb8-4140-bb19-8b3caebffb12\");\n",
       "        el.textContent = \"BokehJS \" + Bokeh.version + \" successfully loaded.\";\n",
       "      } else if (Date.now() < window._bokeh_timeout) {\n",
       "        setTimeout(display_loaded, 100)\n",
       "      }\n",
       "    }\n",
       "  \n",
       "    function run_callbacks() {\n",
       "      try {\n",
       "        window._bokeh_onload_callbacks.forEach(function(callback) { callback() });\n",
       "      }\n",
       "      finally {\n",
       "        delete window._bokeh_onload_callbacks\n",
       "      }\n",
       "      console.info(\"Bokeh: all callbacks have finished\");\n",
       "    }\n",
       "  \n",
       "    function load_libs(js_urls, callback) {\n",
       "      window._bokeh_onload_callbacks.push(callback);\n",
       "      if (window._bokeh_is_loading > 0) {\n",
       "        console.log(\"Bokeh: BokehJS is being loaded, scheduling callback at\", now());\n",
       "        return null;\n",
       "      }\n",
       "      if (js_urls == null || js_urls.length === 0) {\n",
       "        run_callbacks();\n",
       "        return null;\n",
       "      }\n",
       "      console.log(\"Bokeh: BokehJS not loaded, scheduling load and callback at\", now());\n",
       "      window._bokeh_is_loading = js_urls.length;\n",
       "      for (var i = 0; i < js_urls.length; i++) {\n",
       "        var url = js_urls[i];\n",
       "        var s = document.createElement('script');\n",
       "        s.src = url;\n",
       "        s.async = false;\n",
       "        s.onreadystatechange = s.onload = function() {\n",
       "          window._bokeh_is_loading--;\n",
       "          if (window._bokeh_is_loading === 0) {\n",
       "            console.log(\"Bokeh: all BokehJS libraries loaded\");\n",
       "            run_callbacks()\n",
       "          }\n",
       "        };\n",
       "        s.onerror = function() {\n",
       "          console.warn(\"failed to load library \" + url);\n",
       "        };\n",
       "        console.log(\"Bokeh: injecting script tag for BokehJS library: \", url);\n",
       "        document.getElementsByTagName(\"head\")[0].appendChild(s);\n",
       "      }\n",
       "    };var element = document.getElementById(\"cab69a08-6fb8-4140-bb19-8b3caebffb12\");\n",
       "    if (element == null) {\n",
       "      console.log(\"Bokeh: ERROR: autoload.js configured with elementid 'cab69a08-6fb8-4140-bb19-8b3caebffb12' but no matching script tag was found. \")\n",
       "      return false;\n",
       "    }\n",
       "  \n",
       "    var js_urls = [];\n",
       "  \n",
       "    var inline_js = [\n",
       "      function(Bokeh) {\n",
       "        (function() {\n",
       "          var fn = function() {\n",
       "            var docs_json = {\"2e1d8361-01e6-4f79-b528-6a25d2862d20\":{\"roots\":{\"references\":[{\"attributes\":{\"plot\":null,\"text\":\"Demo Plot\"},\"id\":\"5f875a81-decf-4795-8e09-8b1ce6862936\",\"type\":\"Title\"},{\"attributes\":{},\"id\":\"d413dd02-0a69-4ce6-85ca-f07e9d3fe0ec\",\"type\":\"BasicTickFormatter\"},{\"attributes\":{\"plot\":{\"id\":\"d6458417-45e1-41df-8196-87407d9b6dcc\",\"subtype\":\"Figure\",\"type\":\"Plot\"}},\"id\":\"64760484-2994-4268-8482-0af222f1a100\",\"type\":\"PanTool\"},{\"attributes\":{\"bottom_units\":\"screen\",\"fill_alpha\":{\"value\":0.5},\"fill_color\":{\"value\":\"lightgrey\"},\"left_units\":\"screen\",\"level\":\"overlay\",\"line_alpha\":{\"value\":1.0},\"line_color\":{\"value\":\"black\"},\"line_dash\":[4,4],\"line_width\":{\"value\":2},\"plot\":null,\"render_mode\":\"css\",\"right_units\":\"screen\",\"top_units\":\"screen\"},\"id\":\"fdbb6eb2-7504-4d79-a513-28bad6eb1063\",\"type\":\"BoxAnnotation\"},{\"attributes\":{},\"id\":\"7c0fcc1d-a80d-44db-b7a4-4f5a0d6d2212\",\"type\":\"BasicTicker\"},{\"attributes\":{\"plot\":{\"id\":\"d6458417-45e1-41df-8196-87407d9b6dcc\",\"subtype\":\"Figure\",\"type\":\"Plot\"}},\"id\":\"baa2c28b-7acc-4a0e-a52c-3c55063707d2\",\"type\":\"SaveTool\"},{\"attributes\":{},\"id\":\"ebecf160-75de-454f-bdd7-40208ebac57e\",\"type\":\"BasicTicker\"},{\"attributes\":{\"axis_label\":\"f(x)\",\"formatter\":{\"id\":\"4ff2bfa3-4f99-425e-8dac-a88809bbcddb\",\"type\":\"BasicTickFormatter\"},\"plot\":{\"id\":\"d6458417-45e1-41df-8196-87407d9b6dcc\",\"subtype\":\"Figure\",\"type\":\"Plot\"},\"ticker\":{\"id\":\"ebecf160-75de-454f-bdd7-40208ebac57e\",\"type\":\"BasicTicker\"}},\"id\":\"0b9edd51-ba2b-4376-ba9a-b73ea5ea197e\",\"type\":\"LinearAxis\"},{\"attributes\":{},\"id\":\"4ff2bfa3-4f99-425e-8dac-a88809bbcddb\",\"type\":\"BasicTickFormatter\"},{\"attributes\":{\"axis_label\":\"x\",\"formatter\":{\"id\":\"d413dd02-0a69-4ce6-85ca-f07e9d3fe0ec\",\"type\":\"BasicTickFormatter\"},\"plot\":{\"id\":\"d6458417-45e1-41df-8196-87407d9b6dcc\",\"subtype\":\"Figure\",\"type\":\"Plot\"},\"ticker\":{\"id\":\"7c0fcc1d-a80d-44db-b7a4-4f5a0d6d2212\",\"type\":\"BasicTicker\"}},\"id\":\"871fc0a4-6271-458b-8ed1-22746b4626b7\",\"type\":\"LinearAxis\"},{\"attributes\":{\"items\":[{\"id\":\"7d782f77-ba89-45e4-bcbf-4ae2bf6f7d1a\",\"type\":\"LegendItem\"}],\"plot\":{\"id\":\"d6458417-45e1-41df-8196-87407d9b6dcc\",\"subtype\":\"Figure\",\"type\":\"Plot\"}},\"id\":\"131d62a9-9f64-4a99-be39-e54ed8bb0a7b\",\"type\":\"Legend\"},{\"attributes\":{\"below\":[{\"id\":\"871fc0a4-6271-458b-8ed1-22746b4626b7\",\"type\":\"LinearAxis\"}],\"left\":[{\"id\":\"0b9edd51-ba2b-4376-ba9a-b73ea5ea197e\",\"type\":\"LinearAxis\"}],\"plot_height\":350,\"plot_width\":400,\"renderers\":[{\"id\":\"871fc0a4-6271-458b-8ed1-22746b4626b7\",\"type\":\"LinearAxis\"},{\"id\":\"c075ae9f-4244-4267-86ec-2c41ef182abe\",\"type\":\"Grid\"},{\"id\":\"0b9edd51-ba2b-4376-ba9a-b73ea5ea197e\",\"type\":\"LinearAxis\"},{\"id\":\"8673955d-5e56-4031-89c4-83b8d40144c4\",\"type\":\"Grid\"},{\"id\":\"fdbb6eb2-7504-4d79-a513-28bad6eb1063\",\"type\":\"BoxAnnotation\"},{\"id\":\"131d62a9-9f64-4a99-be39-e54ed8bb0a7b\",\"type\":\"Legend\"},{\"id\":\"2642bb25-8d83-4675-97c0-bbdf9dd77265\",\"type\":\"GlyphRenderer\"}],\"title\":{\"id\":\"5f875a81-decf-4795-8e09-8b1ce6862936\",\"type\":\"Title\"},\"tool_events\":{\"id\":\"1566d98d-108e-45df-8593-f54256896070\",\"type\":\"ToolEvents\"},\"toolbar\":{\"id\":\"10acaaec-c46a-4b33-b2c1-316a079fd91e\",\"type\":\"Toolbar\"},\"x_range\":{\"id\":\"445c435b-6220-48a7-8ab5-9c19ed30ccb2\",\"type\":\"Range1d\"},\"x_scale\":{\"id\":\"bad9699c-432c-4c04-b804-c139ff060168\",\"type\":\"LinearScale\"},\"y_range\":{\"id\":\"d861075a-1670-4581-a69f-a152dce7aac7\",\"type\":\"Range1d\"},\"y_scale\":{\"id\":\"3fa0053d-17dc-4f92-b743-9ef005dfc960\",\"type\":\"LinearScale\"}},\"id\":\"d6458417-45e1-41df-8196-87407d9b6dcc\",\"subtype\":\"Figure\",\"type\":\"Plot\"},{\"attributes\":{\"fill_alpha\":{\"field\":\"fill_alpha\"},\"fill_color\":{\"value\":\"#ff7f0e\"},\"line_alpha\":{\"field\":\"line_alpha\"},\"line_color\":{\"value\":\"#1f77b4\"},\"size\":{\"field\":\"size\",\"units\":\"screen\"},\"x\":{\"field\":\"x\"},\"y\":{\"field\":\"y\"}},\"id\":\"7853a1d9-8264-4e47-a2ba-6a08f563e3d3\",\"type\":\"Diamond\"},{\"attributes\":{\"active_drag\":\"auto\",\"active_inspect\":\"auto\",\"active_scroll\":\"auto\",\"active_tap\":\"auto\",\"tools\":[{\"id\":\"64760484-2994-4268-8482-0af222f1a100\",\"type\":\"PanTool\"},{\"id\":\"598f412b-8d7e-40d3-bc72-00590d33e7d8\",\"type\":\"WheelZoomTool\"},{\"id\":\"1cf6f948-9b29-47b2-bbc3-01b08cf532bd\",\"type\":\"BoxZoomTool\"},{\"id\":\"baa2c28b-7acc-4a0e-a52c-3c55063707d2\",\"type\":\"SaveTool\"},{\"id\":\"3862f2f4-26c8-49c4-8823-ebcc475d2890\",\"type\":\"ResetTool\"},{\"id\":\"d0d96247-e3bb-447c-9afe-f9d901b5dbe3\",\"type\":\"HelpTool\"}]},\"id\":\"10acaaec-c46a-4b33-b2c1-316a079fd91e\",\"type\":\"Toolbar\"},{\"attributes\":{\"fill_alpha\":{\"value\":0.1},\"fill_color\":{\"value\":\"#1f77b4\"},\"line_alpha\":{\"value\":0.1},\"line_color\":{\"value\":\"#1f77b4\"},\"size\":{\"field\":\"size\",\"units\":\"screen\"},\"x\":{\"field\":\"x\"},\"y\":{\"field\":\"y\"}},\"id\":\"a173dcbc-64b0-4bb1-8610-f3a88ec99535\",\"type\":\"Diamond\"},{\"attributes\":{\"callback\":null,\"column_names\":[\"x\",\"y\",\"size\",\"fill_alpha\",\"line_alpha\"],\"data\":{\"fill_alpha\":{\"__ndarray__\":\"pFEJkZmX7j8yxWYGSTHuP7SLv/YTtO0/ZtvTcLoc7T8rDQGZC2jsPwBMZXMPk+s/w/on1Deb6j9R6QvSln7pP497LEMYPOg/wBRjALvT5j8GLw8AxkblP4yp9eT0l+M/lAhoeJfL4T9+o36EP8/fPxYIpzA259s/HACIJSfx1z/+KzGPsQHUP166bd9gL9A/xJe1+cUjyT9M3C9kOILCP+Akbm+UULk/oMU0uQsCrz+Adv8ZBH6fP4Cu0IG8NoU/AAAAAAAAAAAAAAAAAAAAAICu0IG8NoU/oHb/GQR+nz+gxTS5CwKvP+Akbm+UULk/UNwvZDiCwj/Ml7X5xSPJP166bd9gL9A//isxj7EB1D8cAIglJ/HXPxgIpzA259s/fqN+hD/P3z+UCGh4l8vhP46p9eT0l+M/CC8PAMZG5T/AFGMAu9PmP497LEMYPOg/UekL0pZ+6T/C+ifUN5vqPwFMZXMPk+s/LA0BmQto7D9n29NwuhztP7SLv/YTtO0/MsVmBkkx7j+kUQmRmZfuPw==\",\"dtype\":\"float64\",\"shape\":[50]},\"line_alpha\":{\"__ndarray__\":\"yOVq72aGpj/YrJOZb+usP1+iA0pgX7I/ziRheSwatz+mlvc3o7+8P//PajLCs8E/8xRgryCTxT+9WtC3pAXKP8MRTvOeD88/f9Y5/4lY0j/zoeH/c3LVP+esFDYW0Ng/2O4vD9Fo3D9BrsA9YBjgP/V7rOdkDOI/8v87bWwH5D8Bamc4J//lP9EiSZBP6Oc/D5qSgQ636T/tCPTmcV/rP2Q7EnLt1ew/prNsRN8P7j9MBDDfDwTvP0a9+A0lq+8/AAAAAAAA8D8AAAAAAADwP0a9+A0lq+8/SwQw3w8E7z+ms2xE3w/uP2Q7EnLt1ew/7Aj05nFf6z8NmpKBDrfpP9EiSZBP6Oc/AWpnOCf/5T/y/zttbAfkP/R7rOdkDOI/Qa7APWAY4D/Y7i8P0WjcP+OsFDYW0Ng/76Hh/3Ny1T9/1jn/iVjSP8MRTvOeD88/vVrQt6QFyj/2FGCvIJPFP/vPajLCs8E/n5b3N6O/vD/IJGF5LBq3P1+iA0pgX7I/2KyTmW/rrD/I5WrvZoamPw==\",\"dtype\":\"float64\",\"shape\":[50]},\"size\":{\"__ndarray__\":\"AAAAAAAAAABbhPw1O2rRP1uE/DU7auE/iMb60Fgf6j9bhPw1O2rxP3GlewPKxPU/iMb60Fgf+j+f53me53n+P1uE/DU7agFA5hS8nIKXA0BxpXsDysQFQP01O2oR8gdAiMb60FgfCkATV7o3oEwMQJ/neZ7neQ5AFbycgpdTEEBbhPw1O2oRQKBMXOnegBJA5hS8nIKXE0As3RtQJq4UQHGlewPKxBVAt23btm3bFkD9NTtqEfIXQEP+mh21CBlAiMb60FgfGkDNjlqE/DUbQBNXujegTBxAWR8a60NjHUCf53me53keQOSv2VGLkB9AFbycgpdTIEA4oExc6d4gQFuE/DU7aiFAfWisD431IUCgTFzp3oAiQMMwDMMwDCNA5hS8nIKXI0AJ+Wt21CIkQCzdG1AmriRAT8HLKXg5JUBxpXsDysQlQJSJK90bUCZAt23btm3bJkDZUYuQv2YnQP01O2oR8idAIBrrQ2N9KEBD/podtQgpQGXiSvcGlClAiMb60FgfKkCrqqqqqqoqQA==\",\"dtype\":\"float64\",\"shape\":[50]},\"x\":{\"__ndarray__\":\"AAAAAAAAAACIxvrQWB/aP4jG+tBYH+o/5hS8nIKX8z+IxvrQWB/6PxW8nIKXUwBA5hS8nIKXA0C3bdu2bdsGQIjG+tBYHwpAWR8a60NjDUAVvJyCl1MQQH5orA+N9RFA5hS8nIKXE0BOwcspeDkVQLdt27Zt2xZAIBrrQ2N9GECIxvrQWB8aQPByCl5OwRtAWR8a60NjHUDCyyl4OQUfQBW8nIKXUyBASZIkSZIkIUB+aKwPjfUhQLI+NNaHxiJA5hS8nIKXI0Aa60NjfWgkQE7Byyl4OSVAg5dT8HIKJkC3bdu2bdsmQOtDY31orCdAIBrrQ2N9KEBU8HIKXk4pQIjG+tBYHypAvJyCl1PwKkDwcgpeTsErQCVJkiRJkixAWR8a60NjLUCN9aGxPjQuQMLLKXg5BS9A9qGxPjTWL0AVvJyCl1MwQC+n4OUUvDBASZIkSZIkMUBjfWisD40xQH5orA+N9TFAmFPwcgpeMkCyPjTWh8YyQMwpeDkFLzNA5hS8nIKXM0AAAAAAAAA0QA==\",\"dtype\":\"float64\",\"shape\":[50]},\"y\":{\"__ndarray__\":\"V1J/VfDycT+i4whnZwt3P7AolnK9R30/7S7rrbBogj/w/1HagOiGP6u0Sfg7Now/3UTAHBYxkT9IeiUYT7yUP76E4Cs5wJg/oe6zBNg8nT8qEmK9DBehP4XIvMWjxaM/rkeGAlKjpj/oET/NnaapP6rmCwF+w6w/x0jxqIrrrz8xHP+JKoexP761nybzDLM/yPRh9q99tD/ru6YZ3M+1P9ZSXddD+rY/b1zlRW70tz/jqD09A7e4P/nVQukmPLk/aKkQxcR/uT9oqRDFxH+5P/nVQukmPLk/4qg9PQO3uD9vXOVFbvS3P9ZSXddD+rY/6rumGdzPtT/H9GH2r320P761nybzDLM/MRz/iSqHsT/HSPGoiuuvP6jmCwF+w6w/6BE/zZ2mqT+uR4YCUqOmP4LIvMWjxaM/JxJivQwXoT+h7rME2DydP76E4Cs5wJg/SHolGE+8lD/fRMAcFjGRP6W0Sfg7Now/6v9R2oDohj/oLuutsGiCP7AolnK9R30/ouMIZ2cLdz9XUn9V8PJxPw==\",\"dtype\":\"float64\",\"shape\":[50]}}},\"id\":\"61eeb42b-c7f8-49b1-83a1-656f4ef0fdfc\",\"type\":\"ColumnDataSource\"},{\"attributes\":{\"label\":{\"value\":\"m=10, s=4\"},\"renderers\":[{\"id\":\"2642bb25-8d83-4675-97c0-bbdf9dd77265\",\"type\":\"GlyphRenderer\"}]},\"id\":\"7d782f77-ba89-45e4-bcbf-4ae2bf6f7d1a\",\"type\":\"LegendItem\"},{\"attributes\":{},\"id\":\"3fa0053d-17dc-4f92-b743-9ef005dfc960\",\"type\":\"LinearScale\"},{\"attributes\":{\"overlay\":{\"id\":\"fdbb6eb2-7504-4d79-a513-28bad6eb1063\",\"type\":\"BoxAnnotation\"},\"plot\":{\"id\":\"d6458417-45e1-41df-8196-87407d9b6dcc\",\"subtype\":\"Figure\",\"type\":\"Plot\"}},\"id\":\"1cf6f948-9b29-47b2-bbc3-01b08cf532bd\",\"type\":\"BoxZoomTool\"},{\"attributes\":{\"callback\":null,\"end\":0.2,\"start\":-0.1},\"id\":\"d861075a-1670-4581-a69f-a152dce7aac7\",\"type\":\"Range1d\"},{\"attributes\":{},\"id\":\"bad9699c-432c-4c04-b804-c139ff060168\",\"type\":\"LinearScale\"},{\"attributes\":{\"plot\":{\"id\":\"d6458417-45e1-41df-8196-87407d9b6dcc\",\"subtype\":\"Figure\",\"type\":\"Plot\"}},\"id\":\"d0d96247-e3bb-447c-9afe-f9d901b5dbe3\",\"type\":\"HelpTool\"},{\"attributes\":{\"dimension\":1,\"plot\":{\"id\":\"d6458417-45e1-41df-8196-87407d9b6dcc\",\"subtype\":\"Figure\",\"type\":\"Plot\"},\"ticker\":{\"id\":\"ebecf160-75de-454f-bdd7-40208ebac57e\",\"type\":\"BasicTicker\"}},\"id\":\"8673955d-5e56-4031-89c4-83b8d40144c4\",\"type\":\"Grid\"},{\"attributes\":{\"plot\":{\"id\":\"d6458417-45e1-41df-8196-87407d9b6dcc\",\"subtype\":\"Figure\",\"type\":\"Plot\"}},\"id\":\"3862f2f4-26c8-49c4-8823-ebcc475d2890\",\"type\":\"ResetTool\"},{\"attributes\":{\"callback\":null,\"end\":20},\"id\":\"445c435b-6220-48a7-8ab5-9c19ed30ccb2\",\"type\":\"Range1d\"},{\"attributes\":{\"plot\":{\"id\":\"d6458417-45e1-41df-8196-87407d9b6dcc\",\"subtype\":\"Figure\",\"type\":\"Plot\"},\"ticker\":{\"id\":\"7c0fcc1d-a80d-44db-b7a4-4f5a0d6d2212\",\"type\":\"BasicTicker\"}},\"id\":\"c075ae9f-4244-4267-86ec-2c41ef182abe\",\"type\":\"Grid\"},{\"attributes\":{\"plot\":{\"id\":\"d6458417-45e1-41df-8196-87407d9b6dcc\",\"subtype\":\"Figure\",\"type\":\"Plot\"}},\"id\":\"598f412b-8d7e-40d3-bc72-00590d33e7d8\",\"type\":\"WheelZoomTool\"},{\"attributes\":{},\"id\":\"1566d98d-108e-45df-8593-f54256896070\",\"type\":\"ToolEvents\"},{\"attributes\":{\"data_source\":{\"id\":\"61eeb42b-c7f8-49b1-83a1-656f4ef0fdfc\",\"type\":\"ColumnDataSource\"},\"glyph\":{\"id\":\"7853a1d9-8264-4e47-a2ba-6a08f563e3d3\",\"type\":\"Diamond\"},\"hover_glyph\":null,\"muted_glyph\":null,\"nonselection_glyph\":{\"id\":\"a173dcbc-64b0-4bb1-8610-f3a88ec99535\",\"type\":\"Diamond\"},\"selection_glyph\":null},\"id\":\"2642bb25-8d83-4675-97c0-bbdf9dd77265\",\"type\":\"GlyphRenderer\"}],\"root_ids\":[\"d6458417-45e1-41df-8196-87407d9b6dcc\"]},\"title\":\"Bokeh Application\",\"version\":\"0.12.6\"}};\n",
       "            var render_items = [{\"docid\":\"2e1d8361-01e6-4f79-b528-6a25d2862d20\",\"elementid\":\"cab69a08-6fb8-4140-bb19-8b3caebffb12\",\"modelid\":\"d6458417-45e1-41df-8196-87407d9b6dcc\"}];\n",
       "            \n",
       "            Bokeh.embed.embed_items(docs_json, render_items);\n",
       "          };\n",
       "          if (document.readyState != \"loading\") fn();\n",
       "          else document.addEventListener(\"DOMContentLoaded\", fn);\n",
       "        })();\n",
       "      },\n",
       "      function(Bokeh) {\n",
       "      }\n",
       "    ];\n",
       "  \n",
       "    function run_inline_js() {\n",
       "      \n",
       "      if ((window.Bokeh !== undefined) || (force === true)) {\n",
       "        for (var i = 0; i < inline_js.length; i++) {\n",
       "          inline_js[i](window.Bokeh);\n",
       "        }if (force === true) {\n",
       "          display_loaded();\n",
       "        }} else if (Date.now() < window._bokeh_timeout) {\n",
       "        setTimeout(run_inline_js, 100);\n",
       "      } else if (!window._bokeh_failed_load) {\n",
       "        console.log(\"Bokeh: BokehJS failed to load within specified timeout.\");\n",
       "        window._bokeh_failed_load = true;\n",
       "      } else if (force !== true) {\n",
       "        var cell = $(document.getElementById(\"cab69a08-6fb8-4140-bb19-8b3caebffb12\")).parents('.cell').data().cell;\n",
       "        cell.output_area.append_execute_result(NB_LOAD_WARNING)\n",
       "      }\n",
       "  \n",
       "    }\n",
       "  \n",
       "    if (window._bokeh_is_loading === 0) {\n",
       "      console.log(\"Bokeh: BokehJS loaded, going straight to plotting\");\n",
       "      run_inline_js();\n",
       "    } else {\n",
       "      load_libs(js_urls, function() {\n",
       "        console.log(\"Bokeh: BokehJS plotting callback run at\", now());\n",
       "        run_inline_js();\n",
       "      });\n",
       "    }\n",
       "  }(this));\n",
       "</script>"
      ]
     },
     "metadata": {},
     "output_type": "display_data"
    }
   ],
   "source": [
    "p = bokeh.plotting.figure(\n",
    "    title='Demo Plot',\n",
    "    x_axis_label='x',\n",
    "    y_axis_label='f(x)',\n",
    "    width=400, height=350,\n",
    "    x_range=(0, 20),\n",
    "    y_range=(-0.1, 0.2),\n",
    ")\n",
    "\n",
    "p.diamond(x, y1, \n",
    "          line_color=palette[0], \n",
    "          fill_color=palette[1],\n",
    "          line_alpha=y1/y1.max(), # oscillate from 0 to 1 (y min to max)\n",
    "          fill_alpha=(1-y1/y1.max()), # oscillate from 1 to 0 (y min to max)\n",
    "          legend='m=10, s=4', \n",
    "          size=x/1.5)\n",
    "\n",
    "bokeh.plotting.show(p)"
   ]
  },
  {
   "cell_type": "markdown",
   "metadata": {},
   "source": [
    "Note that you can use `color` to set both the `line_color` and `fill_color`.  Similarly, `alpha` sets both the `line_alpha` and `fill_alpha`."
   ]
  },
  {
   "cell_type": "code",
   "execution_count": 27,
   "metadata": {},
   "outputs": [
    {
     "data": {
      "text/html": [
       "\n",
       "\n",
       "    <div class=\"bk-root\">\n",
       "        <div class=\"bk-plotdiv\" id=\"f4e40a3f-2987-4f90-8bf3-f00a0ba138d0\"></div>\n",
       "    </div>\n",
       "<script type=\"text/javascript\">\n",
       "  \n",
       "  (function(global) {\n",
       "    function now() {\n",
       "      return new Date();\n",
       "    }\n",
       "  \n",
       "    var force = false;\n",
       "  \n",
       "    if (typeof (window._bokeh_onload_callbacks) === \"undefined\" || force === true) {\n",
       "      window._bokeh_onload_callbacks = [];\n",
       "      window._bokeh_is_loading = undefined;\n",
       "    }\n",
       "  \n",
       "  \n",
       "    \n",
       "    if (typeof (window._bokeh_timeout) === \"undefined\" || force === true) {\n",
       "      window._bokeh_timeout = Date.now() + 0;\n",
       "      window._bokeh_failed_load = false;\n",
       "    }\n",
       "  \n",
       "    var NB_LOAD_WARNING = {'data': {'text/html':\n",
       "       \"<div style='background-color: #fdd'>\\n\"+\n",
       "       \"<p>\\n\"+\n",
       "       \"BokehJS does not appear to have successfully loaded. If loading BokehJS from CDN, this \\n\"+\n",
       "       \"may be due to a slow or bad network connection. Possible fixes:\\n\"+\n",
       "       \"</p>\\n\"+\n",
       "       \"<ul>\\n\"+\n",
       "       \"<li>re-rerun `output_notebook()` to attempt to load from CDN again, or</li>\\n\"+\n",
       "       \"<li>use INLINE resources instead, as so:</li>\\n\"+\n",
       "       \"</ul>\\n\"+\n",
       "       \"<code>\\n\"+\n",
       "       \"from bokeh.resources import INLINE\\n\"+\n",
       "       \"output_notebook(resources=INLINE)\\n\"+\n",
       "       \"</code>\\n\"+\n",
       "       \"</div>\"}};\n",
       "  \n",
       "    function display_loaded() {\n",
       "      if (window.Bokeh !== undefined) {\n",
       "        var el = document.getElementById(\"f4e40a3f-2987-4f90-8bf3-f00a0ba138d0\");\n",
       "        el.textContent = \"BokehJS \" + Bokeh.version + \" successfully loaded.\";\n",
       "      } else if (Date.now() < window._bokeh_timeout) {\n",
       "        setTimeout(display_loaded, 100)\n",
       "      }\n",
       "    }\n",
       "  \n",
       "    function run_callbacks() {\n",
       "      try {\n",
       "        window._bokeh_onload_callbacks.forEach(function(callback) { callback() });\n",
       "      }\n",
       "      finally {\n",
       "        delete window._bokeh_onload_callbacks\n",
       "      }\n",
       "      console.info(\"Bokeh: all callbacks have finished\");\n",
       "    }\n",
       "  \n",
       "    function load_libs(js_urls, callback) {\n",
       "      window._bokeh_onload_callbacks.push(callback);\n",
       "      if (window._bokeh_is_loading > 0) {\n",
       "        console.log(\"Bokeh: BokehJS is being loaded, scheduling callback at\", now());\n",
       "        return null;\n",
       "      }\n",
       "      if (js_urls == null || js_urls.length === 0) {\n",
       "        run_callbacks();\n",
       "        return null;\n",
       "      }\n",
       "      console.log(\"Bokeh: BokehJS not loaded, scheduling load and callback at\", now());\n",
       "      window._bokeh_is_loading = js_urls.length;\n",
       "      for (var i = 0; i < js_urls.length; i++) {\n",
       "        var url = js_urls[i];\n",
       "        var s = document.createElement('script');\n",
       "        s.src = url;\n",
       "        s.async = false;\n",
       "        s.onreadystatechange = s.onload = function() {\n",
       "          window._bokeh_is_loading--;\n",
       "          if (window._bokeh_is_loading === 0) {\n",
       "            console.log(\"Bokeh: all BokehJS libraries loaded\");\n",
       "            run_callbacks()\n",
       "          }\n",
       "        };\n",
       "        s.onerror = function() {\n",
       "          console.warn(\"failed to load library \" + url);\n",
       "        };\n",
       "        console.log(\"Bokeh: injecting script tag for BokehJS library: \", url);\n",
       "        document.getElementsByTagName(\"head\")[0].appendChild(s);\n",
       "      }\n",
       "    };var element = document.getElementById(\"f4e40a3f-2987-4f90-8bf3-f00a0ba138d0\");\n",
       "    if (element == null) {\n",
       "      console.log(\"Bokeh: ERROR: autoload.js configured with elementid 'f4e40a3f-2987-4f90-8bf3-f00a0ba138d0' but no matching script tag was found. \")\n",
       "      return false;\n",
       "    }\n",
       "  \n",
       "    var js_urls = [];\n",
       "  \n",
       "    var inline_js = [\n",
       "      function(Bokeh) {\n",
       "        (function() {\n",
       "          var fn = function() {\n",
       "            var docs_json = {\"625dc6a1-f6b5-4cf8-a12b-16e5333263af\":{\"roots\":{\"references\":[{\"attributes\":{\"plot\":{\"id\":\"7bdc04e2-0a59-4495-89d1-60549d723ed8\",\"subtype\":\"Figure\",\"type\":\"Plot\"}},\"id\":\"d6892c3b-7f94-40b8-a4cc-214a7b16d5d5\",\"type\":\"ResetTool\"},{\"attributes\":{},\"id\":\"245a5451-b7c0-4637-8214-17b86f56bd2c\",\"type\":\"BasicTicker\"},{\"attributes\":{\"active_drag\":\"auto\",\"active_inspect\":\"auto\",\"active_scroll\":\"auto\",\"active_tap\":\"auto\",\"tools\":[{\"id\":\"88e6d5d5-1328-42ae-91fa-6a1976d9c75e\",\"type\":\"PanTool\"},{\"id\":\"b9fbbbb7-e9ab-4a0a-870f-b4101329261a\",\"type\":\"WheelZoomTool\"},{\"id\":\"cb138653-0295-42b5-b38b-a316595b3be3\",\"type\":\"BoxZoomTool\"},{\"id\":\"eb1c1714-c4c7-48e0-bbf1-6664976b7479\",\"type\":\"SaveTool\"},{\"id\":\"d6892c3b-7f94-40b8-a4cc-214a7b16d5d5\",\"type\":\"ResetTool\"},{\"id\":\"5240c01c-418a-4a37-b082-39eec6998941\",\"type\":\"HelpTool\"}]},\"id\":\"8d0619bc-2ebf-4e5b-ac62-cee9fe082d9f\",\"type\":\"Toolbar\"},{\"attributes\":{},\"id\":\"168ab17c-521c-48ab-9cb4-28130ee4635c\",\"type\":\"BasicTicker\"},{\"attributes\":{},\"id\":\"60e113af-cc7c-4cfe-b5ed-20cc1d17c215\",\"type\":\"BasicTickFormatter\"},{\"attributes\":{\"items\":[{\"id\":\"05613f52-e617-47be-9948-14df5a8ecf7f\",\"type\":\"LegendItem\"}],\"plot\":{\"id\":\"7bdc04e2-0a59-4495-89d1-60549d723ed8\",\"subtype\":\"Figure\",\"type\":\"Plot\"}},\"id\":\"1dae9f28-f327-4e7e-80e3-cd62661c5fba\",\"type\":\"Legend\"},{\"attributes\":{\"overlay\":{\"id\":\"b40ffbea-036d-4c6f-9a76-954a0216beec\",\"type\":\"BoxAnnotation\"},\"plot\":{\"id\":\"7bdc04e2-0a59-4495-89d1-60549d723ed8\",\"subtype\":\"Figure\",\"type\":\"Plot\"}},\"id\":\"cb138653-0295-42b5-b38b-a316595b3be3\",\"type\":\"BoxZoomTool\"},{\"attributes\":{\"plot\":null,\"text\":\"Demo Plot\"},\"id\":\"f492c81b-6d02-4c19-8e37-2a41208d58de\",\"type\":\"Title\"},{\"attributes\":{\"plot\":{\"id\":\"7bdc04e2-0a59-4495-89d1-60549d723ed8\",\"subtype\":\"Figure\",\"type\":\"Plot\"}},\"id\":\"5240c01c-418a-4a37-b082-39eec6998941\",\"type\":\"HelpTool\"},{\"attributes\":{\"bottom_units\":\"screen\",\"fill_alpha\":{\"value\":0.5},\"fill_color\":{\"value\":\"lightgrey\"},\"left_units\":\"screen\",\"level\":\"overlay\",\"line_alpha\":{\"value\":1.0},\"line_color\":{\"value\":\"black\"},\"line_dash\":[4,4],\"line_width\":{\"value\":2},\"plot\":null,\"render_mode\":\"css\",\"right_units\":\"screen\",\"top_units\":\"screen\"},\"id\":\"b40ffbea-036d-4c6f-9a76-954a0216beec\",\"type\":\"BoxAnnotation\"},{\"attributes\":{},\"id\":\"729ac099-062f-4759-be8b-d2d993a88347\",\"type\":\"LinearScale\"},{\"attributes\":{\"callback\":null,\"end\":20},\"id\":\"9e7d438b-6b08-46ec-958e-ce171b2933f9\",\"type\":\"Range1d\"},{\"attributes\":{\"plot\":{\"id\":\"7bdc04e2-0a59-4495-89d1-60549d723ed8\",\"subtype\":\"Figure\",\"type\":\"Plot\"}},\"id\":\"b9fbbbb7-e9ab-4a0a-870f-b4101329261a\",\"type\":\"WheelZoomTool\"},{\"attributes\":{\"axis_label\":\"f(x)\",\"formatter\":{\"id\":\"60e113af-cc7c-4cfe-b5ed-20cc1d17c215\",\"type\":\"BasicTickFormatter\"},\"plot\":{\"id\":\"7bdc04e2-0a59-4495-89d1-60549d723ed8\",\"subtype\":\"Figure\",\"type\":\"Plot\"},\"ticker\":{\"id\":\"245a5451-b7c0-4637-8214-17b86f56bd2c\",\"type\":\"BasicTicker\"}},\"id\":\"cff3d80f-12e6-4d75-8b23-e89a6d7a460a\",\"type\":\"LinearAxis\"},{\"attributes\":{\"data_source\":{\"id\":\"024309a8-51d2-4e39-b19b-c57485cc483b\",\"type\":\"ColumnDataSource\"},\"glyph\":{\"id\":\"524a10db-68e9-4555-b864-156a19568d6b\",\"type\":\"Diamond\"},\"hover_glyph\":null,\"muted_glyph\":null,\"nonselection_glyph\":{\"id\":\"6cae3568-c8a5-45f0-a8ba-0d94139a9c3e\",\"type\":\"Diamond\"},\"selection_glyph\":null},\"id\":\"86bd9f23-77f6-43b7-823a-b86c1a7f32fa\",\"type\":\"GlyphRenderer\"},{\"attributes\":{},\"id\":\"246318ef-7c16-425d-a6f1-dae2ac39f4ef\",\"type\":\"BasicTickFormatter\"},{\"attributes\":{\"callback\":null,\"end\":0.2,\"start\":-0.1},\"id\":\"12dd4dd5-28c3-4f07-87bd-9effd078bb6e\",\"type\":\"Range1d\"},{\"attributes\":{\"below\":[{\"id\":\"21d17978-62d0-44d3-a711-a62586089ad3\",\"type\":\"LinearAxis\"}],\"left\":[{\"id\":\"cff3d80f-12e6-4d75-8b23-e89a6d7a460a\",\"type\":\"LinearAxis\"}],\"plot_height\":350,\"plot_width\":400,\"renderers\":[{\"id\":\"21d17978-62d0-44d3-a711-a62586089ad3\",\"type\":\"LinearAxis\"},{\"id\":\"980dd4c3-478c-45cd-a0ca-668c54612c74\",\"type\":\"Grid\"},{\"id\":\"cff3d80f-12e6-4d75-8b23-e89a6d7a460a\",\"type\":\"LinearAxis\"},{\"id\":\"a85ab7a4-bf3b-423e-9cdf-33702d20f807\",\"type\":\"Grid\"},{\"id\":\"b40ffbea-036d-4c6f-9a76-954a0216beec\",\"type\":\"BoxAnnotation\"},{\"id\":\"1dae9f28-f327-4e7e-80e3-cd62661c5fba\",\"type\":\"Legend\"},{\"id\":\"86bd9f23-77f6-43b7-823a-b86c1a7f32fa\",\"type\":\"GlyphRenderer\"}],\"title\":{\"id\":\"f492c81b-6d02-4c19-8e37-2a41208d58de\",\"type\":\"Title\"},\"tool_events\":{\"id\":\"624c8d6c-8745-48ea-9186-3e2877872b30\",\"type\":\"ToolEvents\"},\"toolbar\":{\"id\":\"8d0619bc-2ebf-4e5b-ac62-cee9fe082d9f\",\"type\":\"Toolbar\"},\"x_range\":{\"id\":\"9e7d438b-6b08-46ec-958e-ce171b2933f9\",\"type\":\"Range1d\"},\"x_scale\":{\"id\":\"e8530a63-fa30-496c-aeb5-dfc5c718e623\",\"type\":\"LinearScale\"},\"y_range\":{\"id\":\"12dd4dd5-28c3-4f07-87bd-9effd078bb6e\",\"type\":\"Range1d\"},\"y_scale\":{\"id\":\"729ac099-062f-4759-be8b-d2d993a88347\",\"type\":\"LinearScale\"}},\"id\":\"7bdc04e2-0a59-4495-89d1-60549d723ed8\",\"subtype\":\"Figure\",\"type\":\"Plot\"},{\"attributes\":{\"fill_alpha\":{\"field\":\"fill_alpha\"},\"fill_color\":{\"value\":\"#1f77b4\"},\"line_alpha\":{\"field\":\"line_alpha\"},\"line_color\":{\"value\":\"#1f77b4\"},\"size\":{\"field\":\"size\",\"units\":\"screen\"},\"x\":{\"field\":\"x\"},\"y\":{\"field\":\"y\"}},\"id\":\"524a10db-68e9-4555-b864-156a19568d6b\",\"type\":\"Diamond\"},{\"attributes\":{\"axis_label\":\"x\",\"formatter\":{\"id\":\"246318ef-7c16-425d-a6f1-dae2ac39f4ef\",\"type\":\"BasicTickFormatter\"},\"plot\":{\"id\":\"7bdc04e2-0a59-4495-89d1-60549d723ed8\",\"subtype\":\"Figure\",\"type\":\"Plot\"},\"ticker\":{\"id\":\"168ab17c-521c-48ab-9cb4-28130ee4635c\",\"type\":\"BasicTicker\"}},\"id\":\"21d17978-62d0-44d3-a711-a62586089ad3\",\"type\":\"LinearAxis\"},{\"attributes\":{\"plot\":{\"id\":\"7bdc04e2-0a59-4495-89d1-60549d723ed8\",\"subtype\":\"Figure\",\"type\":\"Plot\"}},\"id\":\"88e6d5d5-1328-42ae-91fa-6a1976d9c75e\",\"type\":\"PanTool\"},{\"attributes\":{},\"id\":\"e8530a63-fa30-496c-aeb5-dfc5c718e623\",\"type\":\"LinearScale\"},{\"attributes\":{\"dimension\":1,\"plot\":{\"id\":\"7bdc04e2-0a59-4495-89d1-60549d723ed8\",\"subtype\":\"Figure\",\"type\":\"Plot\"},\"ticker\":{\"id\":\"245a5451-b7c0-4637-8214-17b86f56bd2c\",\"type\":\"BasicTicker\"}},\"id\":\"a85ab7a4-bf3b-423e-9cdf-33702d20f807\",\"type\":\"Grid\"},{\"attributes\":{},\"id\":\"624c8d6c-8745-48ea-9186-3e2877872b30\",\"type\":\"ToolEvents\"},{\"attributes\":{\"fill_alpha\":{\"value\":0.1},\"fill_color\":{\"value\":\"#1f77b4\"},\"line_alpha\":{\"value\":0.1},\"line_color\":{\"value\":\"#1f77b4\"},\"size\":{\"field\":\"size\",\"units\":\"screen\"},\"x\":{\"field\":\"x\"},\"y\":{\"field\":\"y\"}},\"id\":\"6cae3568-c8a5-45f0-a8ba-0d94139a9c3e\",\"type\":\"Diamond\"},{\"attributes\":{\"label\":{\"value\":\"Sine\"},\"renderers\":[{\"id\":\"86bd9f23-77f6-43b7-823a-b86c1a7f32fa\",\"type\":\"GlyphRenderer\"}]},\"id\":\"05613f52-e617-47be-9948-14df5a8ecf7f\",\"type\":\"LegendItem\"},{\"attributes\":{\"callback\":null,\"column_names\":[\"x\",\"y\",\"size\",\"fill_alpha\",\"line_alpha\"],\"data\":{\"fill_alpha\":{\"__ndarray__\":\"yOVq72aGpj/YrJOZb+usP1+iA0pgX7I/ziRheSwatz+mlvc3o7+8P//PajLCs8E/8xRgryCTxT+9WtC3pAXKP8MRTvOeD88/f9Y5/4lY0j/zoeH/c3LVP+esFDYW0Ng/2O4vD9Fo3D9BrsA9YBjgP/V7rOdkDOI/8v87bWwH5D8Bamc4J//lP9EiSZBP6Oc/D5qSgQ636T/tCPTmcV/rP2Q7EnLt1ew/prNsRN8P7j9MBDDfDwTvP0a9+A0lq+8/AAAAAAAA8D8AAAAAAADwP0a9+A0lq+8/SwQw3w8E7z+ms2xE3w/uP2Q7EnLt1ew/7Aj05nFf6z8NmpKBDrfpP9EiSZBP6Oc/AWpnOCf/5T/y/zttbAfkP/R7rOdkDOI/Qa7APWAY4D/Y7i8P0WjcP+OsFDYW0Ng/76Hh/3Ny1T9/1jn/iVjSP8MRTvOeD88/vVrQt6QFyj/2FGCvIJPFP/vPajLCs8E/n5b3N6O/vD/IJGF5LBq3P1+iA0pgX7I/2KyTmW/rrD/I5WrvZoamPw==\",\"dtype\":\"float64\",\"shape\":[50]},\"line_alpha\":{\"__ndarray__\":\"yOVq72aGpj/YrJOZb+usP1+iA0pgX7I/ziRheSwatz+mlvc3o7+8P//PajLCs8E/8xRgryCTxT+9WtC3pAXKP8MRTvOeD88/f9Y5/4lY0j/zoeH/c3LVP+esFDYW0Ng/2O4vD9Fo3D9BrsA9YBjgP/V7rOdkDOI/8v87bWwH5D8Bamc4J//lP9EiSZBP6Oc/D5qSgQ636T/tCPTmcV/rP2Q7EnLt1ew/prNsRN8P7j9MBDDfDwTvP0a9+A0lq+8/AAAAAAAA8D8AAAAAAADwP0a9+A0lq+8/SwQw3w8E7z+ms2xE3w/uP2Q7EnLt1ew/7Aj05nFf6z8NmpKBDrfpP9EiSZBP6Oc/AWpnOCf/5T/y/zttbAfkP/R7rOdkDOI/Qa7APWAY4D/Y7i8P0WjcP+OsFDYW0Ng/76Hh/3Ny1T9/1jn/iVjSP8MRTvOeD88/vVrQt6QFyj/2FGCvIJPFP/vPajLCs8E/n5b3N6O/vD/IJGF5LBq3P1+iA0pgX7I/2KyTmW/rrD/I5WrvZoamPw==\",\"dtype\":\"float64\",\"shape\":[50]},\"size\":{\"__ndarray__\":\"AAAAAAAAAABbhPw1O2rRP1uE/DU7auE/iMb60Fgf6j9bhPw1O2rxP3GlewPKxPU/iMb60Fgf+j+f53me53n+P1uE/DU7agFA5hS8nIKXA0BxpXsDysQFQP01O2oR8gdAiMb60FgfCkATV7o3oEwMQJ/neZ7neQ5AFbycgpdTEEBbhPw1O2oRQKBMXOnegBJA5hS8nIKXE0As3RtQJq4UQHGlewPKxBVAt23btm3bFkD9NTtqEfIXQEP+mh21CBlAiMb60FgfGkDNjlqE/DUbQBNXujegTBxAWR8a60NjHUCf53me53keQOSv2VGLkB9AFbycgpdTIEA4oExc6d4gQFuE/DU7aiFAfWisD431IUCgTFzp3oAiQMMwDMMwDCNA5hS8nIKXI0AJ+Wt21CIkQCzdG1AmriRAT8HLKXg5JUBxpXsDysQlQJSJK90bUCZAt23btm3bJkDZUYuQv2YnQP01O2oR8idAIBrrQ2N9KEBD/podtQgpQGXiSvcGlClAiMb60FgfKkCrqqqqqqoqQA==\",\"dtype\":\"float64\",\"shape\":[50]},\"x\":{\"__ndarray__\":\"AAAAAAAAAACIxvrQWB/aP4jG+tBYH+o/5hS8nIKX8z+IxvrQWB/6PxW8nIKXUwBA5hS8nIKXA0C3bdu2bdsGQIjG+tBYHwpAWR8a60NjDUAVvJyCl1MQQH5orA+N9RFA5hS8nIKXE0BOwcspeDkVQLdt27Zt2xZAIBrrQ2N9GECIxvrQWB8aQPByCl5OwRtAWR8a60NjHUDCyyl4OQUfQBW8nIKXUyBASZIkSZIkIUB+aKwPjfUhQLI+NNaHxiJA5hS8nIKXI0Aa60NjfWgkQE7Byyl4OSVAg5dT8HIKJkC3bdu2bdsmQOtDY31orCdAIBrrQ2N9KEBU8HIKXk4pQIjG+tBYHypAvJyCl1PwKkDwcgpeTsErQCVJkiRJkixAWR8a60NjLUCN9aGxPjQuQMLLKXg5BS9A9qGxPjTWL0AVvJyCl1MwQC+n4OUUvDBASZIkSZIkMUBjfWisD40xQH5orA+N9TFAmFPwcgpeMkCyPjTWh8YyQMwpeDkFLzNA5hS8nIKXM0AAAAAAAAA0QA==\",\"dtype\":\"float64\",\"shape\":[50]},\"y\":{\"__ndarray__\":\"V1J/VfDycT+i4whnZwt3P7AolnK9R30/7S7rrbBogj/w/1HagOiGP6u0Sfg7Now/3UTAHBYxkT9IeiUYT7yUP76E4Cs5wJg/oe6zBNg8nT8qEmK9DBehP4XIvMWjxaM/rkeGAlKjpj/oET/NnaapP6rmCwF+w6w/x0jxqIrrrz8xHP+JKoexP761nybzDLM/yPRh9q99tD/ru6YZ3M+1P9ZSXddD+rY/b1zlRW70tz/jqD09A7e4P/nVQukmPLk/aKkQxcR/uT9oqRDFxH+5P/nVQukmPLk/4qg9PQO3uD9vXOVFbvS3P9ZSXddD+rY/6rumGdzPtT/H9GH2r320P761nybzDLM/MRz/iSqHsT/HSPGoiuuvP6jmCwF+w6w/6BE/zZ2mqT+uR4YCUqOmP4LIvMWjxaM/JxJivQwXoT+h7rME2DydP76E4Cs5wJg/SHolGE+8lD/fRMAcFjGRP6W0Sfg7Now/6v9R2oDohj/oLuutsGiCP7AolnK9R30/ouMIZ2cLdz9XUn9V8PJxPw==\",\"dtype\":\"float64\",\"shape\":[50]}}},\"id\":\"024309a8-51d2-4e39-b19b-c57485cc483b\",\"type\":\"ColumnDataSource\"},{\"attributes\":{\"plot\":{\"id\":\"7bdc04e2-0a59-4495-89d1-60549d723ed8\",\"subtype\":\"Figure\",\"type\":\"Plot\"}},\"id\":\"eb1c1714-c4c7-48e0-bbf1-6664976b7479\",\"type\":\"SaveTool\"},{\"attributes\":{\"plot\":{\"id\":\"7bdc04e2-0a59-4495-89d1-60549d723ed8\",\"subtype\":\"Figure\",\"type\":\"Plot\"},\"ticker\":{\"id\":\"168ab17c-521c-48ab-9cb4-28130ee4635c\",\"type\":\"BasicTicker\"}},\"id\":\"980dd4c3-478c-45cd-a0ca-668c54612c74\",\"type\":\"Grid\"}],\"root_ids\":[\"7bdc04e2-0a59-4495-89d1-60549d723ed8\"]},\"title\":\"Bokeh Application\",\"version\":\"0.12.6\"}};\n",
       "            var render_items = [{\"docid\":\"625dc6a1-f6b5-4cf8-a12b-16e5333263af\",\"elementid\":\"f4e40a3f-2987-4f90-8bf3-f00a0ba138d0\",\"modelid\":\"7bdc04e2-0a59-4495-89d1-60549d723ed8\"}];\n",
       "            \n",
       "            Bokeh.embed.embed_items(docs_json, render_items);\n",
       "          };\n",
       "          if (document.readyState != \"loading\") fn();\n",
       "          else document.addEventListener(\"DOMContentLoaded\", fn);\n",
       "        })();\n",
       "      },\n",
       "      function(Bokeh) {\n",
       "      }\n",
       "    ];\n",
       "  \n",
       "    function run_inline_js() {\n",
       "      \n",
       "      if ((window.Bokeh !== undefined) || (force === true)) {\n",
       "        for (var i = 0; i < inline_js.length; i++) {\n",
       "          inline_js[i](window.Bokeh);\n",
       "        }if (force === true) {\n",
       "          display_loaded();\n",
       "        }} else if (Date.now() < window._bokeh_timeout) {\n",
       "        setTimeout(run_inline_js, 100);\n",
       "      } else if (!window._bokeh_failed_load) {\n",
       "        console.log(\"Bokeh: BokehJS failed to load within specified timeout.\");\n",
       "        window._bokeh_failed_load = true;\n",
       "      } else if (force !== true) {\n",
       "        var cell = $(document.getElementById(\"f4e40a3f-2987-4f90-8bf3-f00a0ba138d0\")).parents('.cell').data().cell;\n",
       "        cell.output_area.append_execute_result(NB_LOAD_WARNING)\n",
       "      }\n",
       "  \n",
       "    }\n",
       "  \n",
       "    if (window._bokeh_is_loading === 0) {\n",
       "      console.log(\"Bokeh: BokehJS loaded, going straight to plotting\");\n",
       "      run_inline_js();\n",
       "    } else {\n",
       "      load_libs(js_urls, function() {\n",
       "        console.log(\"Bokeh: BokehJS plotting callback run at\", now());\n",
       "        run_inline_js();\n",
       "      });\n",
       "    }\n",
       "  }(this));\n",
       "</script>"
      ]
     },
     "metadata": {},
     "output_type": "display_data"
    }
   ],
   "source": [
    "p = bokeh.plotting.figure(\n",
    "    title='Demo Plot',\n",
    "    x_axis_label='x',\n",
    "    y_axis_label='f(x)',\n",
    "    width=400, height=350,\n",
    "    x_range=(0, 20),\n",
    "    y_range=(-0.1, 0.2),\n",
    ")\n",
    "\n",
    "p.diamond(\n",
    "    x, y1, \n",
    "    color=palette[0], \n",
    "    alpha=y1/y1.max(), # oscillate from 0 to 1 (y min to max)\n",
    "    legend='m=10 s=4', \n",
    "    size=x/1.5)\n",
    "\n",
    "bokeh.plotting.show(p)"
   ]
  },
  {
   "cell_type": "markdown",
   "metadata": {},
   "source": [
    "# Quiz"
   ]
  },
  {
   "cell_type": "markdown",
   "metadata": {},
   "source": [
    "Double click on this cell to insert your answers.\n",
    "\n",
    "### 1. Which settings, both args and kwargs, did we see for `bokeh.plotting.figure`?\n",
    "\n",
    "[Your answer here]\n",
    "\n",
    "### 2. Which settings, both args and kwargs, did we see for `diamond`?\n",
    "\n",
    "[Your answer here]\n",
    "\n",
    "### 3. In the above plots, which settings used a single value and which used a series of values?\n",
    "\n",
    "[Your answer here]\n"
   ]
  },
  {
   "cell_type": "markdown",
   "metadata": {},
   "source": [
    "### Run the following cell to see the answers"
   ]
  },
  {
   "cell_type": "code",
   "execution_count": 28,
   "metadata": {},
   "outputs": [
    {
     "name": "stdout",
     "output_type": "stream",
     "text": [
      "1. Which inputs did we see for `bokeh.plotting.figure`?\n",
      "\n",
      "kwargs:\n",
      "    title\n",
      "    x_axis_label\n",
      "    y_axis_label\n",
      "    width\n",
      "    height\n",
      "    x_range\n",
      "    y_range\n",
      "\n",
      "2. Which inputs did we see for `diamond`?\n",
      "\n",
      "args:\n",
      "    x-values\n",
      "    y-values\n",
      "\n",
      "kwargs:\n",
      "    color\n",
      "    line_color\n",
      "    fill_color\n",
      "    alpha\n",
      "    line_alpha\n",
      "    fill_alpha\n",
      "    legend\n",
      "    size\n",
      "\n",
      "3. In the diamond plots, which settings used a single value and which used a\n",
      "series of values?\n",
      "\n",
      "single values:\n",
      "    color\n",
      "    line_color\n",
      "    fill_color\n",
      "    legend\n",
      "\n",
      "series of values:\n",
      "    alpha\n",
      "    line_alpha\n",
      "    fill_alpha\n",
      "    size\n",
      "\n"
     ]
    }
   ],
   "source": [
    "solution_fname = 'solutions/01_quiz.txt'\n",
    "with open(solution_fname, 'r') as f:\n",
    "    solution = f.read()\n",
    "print(solution)"
   ]
  },
  {
   "cell_type": "markdown",
   "metadata": {},
   "source": [
    "</table><p>There are many marker types available in Bokeh, you can see details and\n",
    "example plots for all of them in the reference guide by clicking on entries in the list below:</p>\n",
    "<table class=\"hlist\" style=\"float:left\"><tr><td><ul>\n",
    "<li><a href=\"http://bokeh.pydata.org/en/latest/docs/reference/plotting.html#bokeh.plotting.Figure.asterisk\" title=\"bokeh.plotting.Figure.asterisk\"><code class=\"xref py py-func docutils literal\"><span class=\"pre\">asterisk()</span></code></a></li>\n",
    "<li><a href=\"http://bokeh.pydata.org/en/latest/docs/reference/plotting.html#bokeh.plotting.Figure.circle\" title=\"bokeh.plotting.Figure.circle\"><code class=\"xref py py-func docutils literal\"><span class=\"pre\">circle()</span></code></a></li>\n",
    "<li><a href=\"http://bokeh.pydata.org/en/latest/docs/reference/plotting.html#bokeh.plotting.Figure.circle_cross\" title=\"bokeh.plotting.Figure.circle_cross\"><code class=\"xref py py-func docutils literal\"><span class=\"pre\">circle_cross()</span></code></a></li>\n",
    "<li><a href=\"http://bokeh.pydata.org/en/latest/docs/reference/plotting.html#bokeh.plotting.Figure.circle_x\" title=\"bokeh.plotting.Figure.circle_x\"><code class=\"xref py py-func docutils literal\"><span class=\"pre\">circle_x()</span></code></a></li>\n",
    "<li><a href=\"http://bokeh.pydata.org/en/latest/docs/reference/plotting.html#bokeh.plotting.Figure.cross\" title=\"bokeh.plotting.Figure.cross\"><code class=\"xref py py-func docutils literal\"><span class=\"pre\">cross()</span></code></a></li>\n",
    "</ul>\n",
    "</td><td><ul>\n",
    "<li><a href=\"http://bokeh.pydata.org/en/latest/docs/reference/plotting.html#bokeh.plotting.Figure.diamond\" title=\"bokeh.plotting.Figure.diamond\"><code class=\"xref py py-func docutils literal\"><span class=\"pre\">diamond()</span></code></a></li>\n",
    "<li><a href=\"http://bokeh.pydata.org/en/latest/docs/reference/plotting.html#bokeh.plotting.Figure.diamond_cross\" title=\"bokeh.plotting.Figure.diamond_cross\"><code class=\"xref py py-func docutils literal\"><span class=\"pre\">diamond_cross()</span></code></a></li>\n",
    "<li><a href=\"http://bokeh.pydata.org/en/latest/docs/reference/plotting.html#bokeh.plotting.Figure.inverted_triangle\" title=\"bokeh.plotting.Figure.inverted_triangle\"><code class=\"xref py py-func docutils literal\"><span class=\"pre\">inverted_triangle()</span></code></a></li>\n",
    "<li><a href=\"http://bokeh.pydata.org/en/latest/docs/reference/plotting.html#bokeh.plotting.Figure.square\" title=\"bokeh.plotting.Figure.square\"><code class=\"xref py py-func docutils literal\"><span class=\"pre\">square()</span></code></a></li>\n",
    "</ul>\n",
    "</td><td><ul>\n",
    "<li><a href=\"http://bokeh.pydata.org/en/latest/docs/reference/plotting.html#bokeh.plotting.Figure.square_cross\" title=\"bokeh.plotting.Figure.square_cross\"><code class=\"xref py py-func docutils literal\"><span class=\"pre\">square_cross()</span></code></a></li>\n",
    "<li><a href=\"http://bokeh.pydata.org/en/latest/docs/reference/plotting.html#bokeh.plotting.Figure.square_x\" title=\"bokeh.plotting.Figure.square_x\"><code class=\"xref py py-func docutils literal\"><span class=\"pre\">square_x()</span></code></a></li>\n",
    "<li><a href=\"http://bokeh.pydata.org/en/latest/docs/reference/plotting.html#bokeh.plotting.Figure.triangle\" title=\"bokeh.plotting.Figure.triangle\"><code class=\"xref py py-func docutils literal\"><span class=\"pre\">triangle()</span></code></a></li>\n",
    "<li><a href=\"http://bokeh.pydata.org/en/latest/docs/reference/plotting.html#bokeh.plotting.Figure.x\" title=\"bokeh.plotting.Figure.x\"><code class=\"xref py py-func docutils literal\"><span class=\"pre\">x()</span></code></a></li>\n",
    "</ul>\n",
    "</td></tr></table>"
   ]
  },
  {
   "cell_type": "markdown",
   "metadata": {},
   "source": [
    "Also, there is a similar command to draw a `line()`, with the added kwarg: `linewidth`."
   ]
  },
  {
   "cell_type": "markdown",
   "metadata": {},
   "source": [
    "# Exercise\n",
    "Plot all three data sets, `y_sin`, `y_cos`, and `y_tan`, each as a function of the `x` array.  For each data set, use a different entry for each of the following:\n",
    "- `color` (or `line_color` and `fill_color` separately)\n",
    "- `alpha` (or `line_alpha` and `fill_alpha` separately)\n",
    "- `legend`\n",
    "\n",
    "Also, try using the `line()` option for one of the data sets and two different glyphs for the other two data sets (e.g. `diamond()`, `asterisk()`, `circle()`, etc).\n",
    "\n",
    "Try using a mix of single values and series of values."
   ]
  },
  {
   "cell_type": "code",
   "execution_count": null,
   "metadata": {
    "collapsed": true
   },
   "outputs": [],
   "source": [
    "# [Enter your code here]"
   ]
  },
  {
   "cell_type": "markdown",
   "metadata": {},
   "source": [
    "Run the following cell to see one possible solution."
   ]
  },
  {
   "cell_type": "code",
   "execution_count": null,
   "metadata": {
    "collapsed": true
   },
   "outputs": [],
   "source": [
    "%load solutions/01_exercise.py"
   ]
  },
  {
   "cell_type": "code",
   "execution_count": null,
   "metadata": {
    "collapsed": true
   },
   "outputs": [],
   "source": []
  }
 ],
 "metadata": {
  "kernelspec": {
   "display_name": "Python 3",
   "language": "python",
   "name": "python3"
  },
  "language_info": {
   "codemirror_mode": {
    "name": "ipython",
    "version": 3
   },
   "file_extension": ".py",
   "mimetype": "text/x-python",
   "name": "python",
   "nbconvert_exporter": "python",
   "pygments_lexer": "ipython3",
   "version": "3.6.2"
  }
 },
 "nbformat": 4,
 "nbformat_minor": 2
}
